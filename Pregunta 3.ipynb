{
  "nbformat": 4,
  "nbformat_minor": 0,
  "metadata": {
    "colab": {
      "name": "Pregunta 3.ipynb",
      "version": "0.3.2",
      "provenance": []
    },
    "kernelspec": {
      "display_name": "Python 3",
      "language": "python",
      "name": "python3"
    },
    "accelerator": "GPU"
  },
  "cells": [
    {
      "metadata": {
        "id": "NKq6NyCqjkaF",
        "colab_type": "text"
      },
      "cell_type": "markdown",
      "source": [
        "## Challenge: Crowd (Object) Counting"
      ]
    },
    {
      "metadata": {
        "id": "XyXcUJ5WjkaI",
        "colab_type": "text"
      },
      "cell_type": "markdown",
      "source": [
        "<img src=\"http://personal.ie.cuhk.edu.hk/~ccloy/images/shopping_mall_annotated.jpg\" title=\"Crowd Counting\" width=\"30%\"/>\n",
        "\n",
        "Para esta sección final se evaluará todo lo que han aprendido a través de un desafío en donde puedan competir y medir sus resultados *in time* en la plataforma de __[Kaggle](https://www.kaggle.com/)__. El problema y todo su detalle puede ser encontrado en la página de la competencia a través del siguiente link:\n",
        "\n",
        "\n",
        "<center><H2> __[Competencia Object Counting](https://www.kaggle.com/t/59c93ca0e8ae47999f9287a5751d6402)__ </H2></center>\n",
        "\n",
        "\n",
        "\n",
        "Para esto deberán crearse una cuenta en la plataforma *Kaggle* y subir sus respuestas a ésta. Por favor crearse nombres que sean fácil identificar después para saber quién fue quién, sino no podrán tener la nota (o en el correo de entrega ponen cual es su nombre de usuario en la competencia).\n",
        "\n",
        "*Nota: El puntaje que entregará al estar participando en la competencia (menos de 2 puntos al *benchmark* que se presenta) y el lugar obtenido se presenta en la página de Kaggle.*\n",
        "\n",
        "> Las entregas en *csv* pueden ser generadas de la siguiente manera:\n",
        "```python\n",
        "import pandas as pd\n",
        "d = {'id': test_ids, 'count': prediction_test}\n",
        "entrega = pd.DataFrame(data=d,columns=['id','count'])\n",
        "entrega.to_csv('mysubmission.csv', index=False)\n",
        "```\n",
        "\n",
        "> Los archivos binarios de numpy pueden ser cargados facilmente con el siguiente comando:\n",
        "```python\n",
        "import numpy as np\n",
        "dato = np.load('binary_file.npy')\n",
        "```\n",
        "\n",
        "> Las imagenes en python pueden ser cargadas con la librería Pillow y transformadas a numpy array con el siguiente comando:\n",
        "```python\n",
        "from PIL import Image\n",
        "img = Image.open(\"path/to/image.jpg or png\")\n",
        "np.asarray(img)\n",
        "```"
      ]
    },
    {
      "metadata": {
        "id": "x4H4FGE9jnTX",
        "colab_type": "code",
        "colab": {
          "base_uri": "https://localhost:8080/",
          "height": 170
        },
        "outputId": "4dfb0961-0f0a-45af-9f6c-f5c10565ec9c"
      },
      "cell_type": "code",
      "source": [
        "!apt-get install -y -qq software-properties-common python-software-properties module-init-tools\n",
        "!add-apt-repository -y ppa:alessandro-strada/ppa 2>&1 > /dev/null\n",
        "!apt-get update -qq 2>&1 > /dev/null\n",
        "!apt-get -y install -qq google-drive-ocamlfuse fuse\n",
        "from google.colab import auth\n",
        "auth.authenticate_user()\n",
        "from oauth2client.client import GoogleCredentials\n",
        "creds = GoogleCredentials.get_application_default()\n",
        "import getpass\n",
        "!google-drive-ocamlfuse -headless -id={creds.client_id} -secret={creds.client_secret} < /dev/null 2>&1 | grep URL\n",
        "vcode = getpass.getpass()\n",
        "!echo {vcode} | google-drive-ocamlfuse -headless -id={creds.client_id} -secret={creds.client_secret}\n",
        "\n",
        "!mkdir -p drive\n",
        "!google-drive-ocamlfuse drive"
      ],
      "execution_count": 1,
      "outputs": [
        {
          "output_type": "stream",
          "text": [
            "gpg: keybox '/tmp/tmp8v7am62z/pubring.gpg' created\n",
            "gpg: /tmp/tmp8v7am62z/trustdb.gpg: trustdb created\n",
            "gpg: key AD5F235DF639B041: public key \"Launchpad PPA for Alessandro Strada\" imported\n",
            "gpg: Total number processed: 1\n",
            "gpg:               imported: 1\n",
            "Warning: apt-key output should not be parsed (stdout is not a terminal)\n",
            "··········\n",
            "fuse: mountpoint is not empty\n",
            "fuse: if you are sure this is safe, use the 'nonempty' mount option\n"
          ],
          "name": "stdout"
        }
      ]
    },
    {
      "metadata": {
        "id": "rRJamFSDjkaJ",
        "colab_type": "code",
        "colab": {
          "base_uri": "https://localhost:8080/",
          "height": 34
        },
        "outputId": "215534d5-17e5-4cbb-bdcd-9164fa392720"
      },
      "cell_type": "code",
      "source": [
        "import numpy as np\n",
        "import pandas as pd\n",
        "from PIL import Image\n",
        "\n",
        "import matplotlib.pyplot as plt\n",
        "%matplotlib inline\n",
        "\n",
        "from keras.layers import *\n",
        "from keras.models import Model,Sequential\n",
        "from keras.utils import to_categorical\n",
        "from keras.optimizers import SGD, rmsprop"
      ],
      "execution_count": 1,
      "outputs": [
        {
          "output_type": "stream",
          "text": [
            "Using TensorFlow backend.\n"
          ],
          "name": "stderr"
        }
      ]
    },
    {
      "metadata": {
        "id": "DSLCCU1YlPWx",
        "colab_type": "code",
        "colab": {
          "base_uri": "https://localhost:8080/",
          "height": 51
        },
        "outputId": "58341c61-270b-4bb8-8178-724438d6e344"
      },
      "cell_type": "code",
      "source": [
        "!ls drive/Redes\\ neuronales/Tarea\\ 3"
      ],
      "execution_count": 3,
      "outputs": [
        {
          "output_type": "stream",
          "text": [
            "frames_train\t images_train.npy  Pregunta 2.ipynb\r\n",
            "images_test.npy  labels_train.csv  Pregunta 3.ipynb\r\n"
          ],
          "name": "stdout"
        }
      ]
    },
    {
      "metadata": {
        "id": "jxTVfBo0jkaW",
        "colab_type": "text"
      },
      "cell_type": "markdown",
      "source": [
        "## Datos"
      ]
    },
    {
      "metadata": {
        "id": "oit74BJIjkaY",
        "colab_type": "code",
        "colab": {
          "base_uri": "https://localhost:8080/",
          "height": 850
        },
        "outputId": "fac0909a-f286-445a-d28f-e1d6ed396a52"
      },
      "cell_type": "code",
      "source": [
        "img = Image.open(\"drive/Redes neuronales/Tarea 3/frames_train/seq_000401.jpg\")\n",
        "np.asarray(img)"
      ],
      "execution_count": 5,
      "outputs": [
        {
          "output_type": "execute_result",
          "data": {
            "text/plain": [
              "array([[[  0,   0,   0],\n",
              "        [  0,   0,   0],\n",
              "        [  0,   0,   0],\n",
              "        ...,\n",
              "        [  0,   0,   0],\n",
              "        [  0,   0,   0],\n",
              "        [  0,   0,   0]],\n",
              "\n",
              "       [[  0,   0,   0],\n",
              "        [  0,   0,   0],\n",
              "        [  0,   0,   0],\n",
              "        ...,\n",
              "        [  0,   0,   0],\n",
              "        [  0,   0,   0],\n",
              "        [  0,   0,   0]],\n",
              "\n",
              "       [[  0,   0,   0],\n",
              "        [  0,   0,   0],\n",
              "        [  0,   0,   0],\n",
              "        ...,\n",
              "        [  0,   0,   0],\n",
              "        [  0,   0,   0],\n",
              "        [  0,   0,   0]],\n",
              "\n",
              "       ...,\n",
              "\n",
              "       [[150, 118,  95],\n",
              "        [150, 118,  95],\n",
              "        [150, 118,  95],\n",
              "        ...,\n",
              "        [203, 158, 117],\n",
              "        [206, 161, 119],\n",
              "        [206, 162, 117]],\n",
              "\n",
              "       [[151, 119,  96],\n",
              "        [151, 119,  96],\n",
              "        [151, 119,  96],\n",
              "        ...,\n",
              "        [185, 140,  99],\n",
              "        [189, 144, 102],\n",
              "        [191, 147, 102]],\n",
              "\n",
              "       [[149, 117,  94],\n",
              "        [149, 117,  94],\n",
              "        [149, 117,  94],\n",
              "        ...,\n",
              "        [170, 125,  84],\n",
              "        [170, 125,  83],\n",
              "        [170, 126,  81]]], dtype=uint8)"
            ]
          },
          "metadata": {
            "tags": []
          },
          "execution_count": 5
        }
      ]
    },
    {
      "metadata": {
        "id": "pz7hReHEjkah",
        "colab_type": "code",
        "colab": {
          "base_uri": "https://localhost:8080/",
          "height": 269
        },
        "outputId": "c9b51443-cc85-465b-dd1b-92dec8d1c8ab"
      },
      "cell_type": "code",
      "source": [
        "plt.imshow(img)\n",
        "plt.show()"
      ],
      "execution_count": 7,
      "outputs": [
        {
          "output_type": "display_data",
          "data": {
            "image/png": "[encoded data removed]",
            "text/plain": [
              "<matplotlib.figure.Figure at 0x7f6a8ade7f28>"
            ]
          },
          "metadata": {
            "tags": []
          }
        }
      ]
    },
    {
      "metadata": {
        "id": "TE20ala1jkaq",
        "colab_type": "code",
        "colab": {}
      },
      "cell_type": "code",
      "source": [
        "train = np.load('drive/Redes neuronales/Tarea 3/images_train.npy')"
      ],
      "execution_count": 0,
      "outputs": []
    },
    {
      "metadata": {
        "id": "MqrgjFvxz_1h",
        "colab_type": "code",
        "colab": {}
      },
      "cell_type": "code",
      "source": [
        "\n",
        "test = np.load('drive/Redes neuronales/Tarea 3/images_test.npy')"
      ],
      "execution_count": 0,
      "outputs": []
    },
    {
      "metadata": {
        "id": "d2u_R_NMpTeR",
        "colab_type": "code",
        "colab": {
          "base_uri": "https://localhost:8080/",
          "height": 51
        },
        "outputId": "9726e41b-d29c-46bf-b9b6-1470fb430c03"
      },
      "cell_type": "code",
      "source": [
        "!ls drive/Redes\\ neuronales/Tarea\\ 3/"
      ],
      "execution_count": 9,
      "outputs": [
        {
          "output_type": "stream",
          "text": [
            "frames_train\t images_train.npy  Pregunta 2.ipynb\r\n",
            "images_test.npy  labels_train.csv  Pregunta 3.ipynb\r\n"
          ],
          "name": "stdout"
        }
      ]
    },
    {
      "metadata": {
        "id": "VELIYvEyjkav",
        "colab_type": "code",
        "colab": {}
      },
      "cell_type": "code",
      "source": [
        "df_y = pd.read_csv('drive/Redes neuronales/Tarea 3/labels_train.csv')"
      ],
      "execution_count": 0,
      "outputs": []
    },
    {
      "metadata": {
        "id": "fuV1Tflgjka2",
        "colab_type": "code",
        "colab": {
          "base_uri": "https://localhost:8080/",
          "height": 297
        },
        "outputId": "0010e05a-2eda-4da2-de20-b9969ac19ab1"
      },
      "cell_type": "code",
      "source": [
        "df_y.describe()"
      ],
      "execution_count": 11,
      "outputs": [
        {
          "output_type": "execute_result",
          "data": {
            "text/html": [
              "<div>\n",
              "<style scoped>\n",
              "    .dataframe tbody tr th:only-of-type {\n",
              "        vertical-align: middle;\n",
              "    }\n",
              "\n",
              "    .dataframe tbody tr th {\n",
              "        vertical-align: top;\n",
              "    }\n",
              "\n",
              "    .dataframe thead th {\n",
              "        text-align: right;\n",
              "    }\n",
              "</style>\n",
              "<table border=\"1\" class=\"dataframe\">\n",
              "  <thead>\n",
              "    <tr style=\"text-align: right;\">\n",
              "      <th></th>\n",
              "      <th>id</th>\n",
              "      <th>count</th>\n",
              "    </tr>\n",
              "  </thead>\n",
              "  <tbody>\n",
              "    <tr>\n",
              "      <th>count</th>\n",
              "      <td>1600.00000</td>\n",
              "      <td>1600.000000</td>\n",
              "    </tr>\n",
              "    <tr>\n",
              "      <th>mean</th>\n",
              "      <td>1200.50000</td>\n",
              "      <td>31.070625</td>\n",
              "    </tr>\n",
              "    <tr>\n",
              "      <th>std</th>\n",
              "      <td>462.02453</td>\n",
              "      <td>6.992134</td>\n",
              "    </tr>\n",
              "    <tr>\n",
              "      <th>min</th>\n",
              "      <td>401.00000</td>\n",
              "      <td>13.000000</td>\n",
              "    </tr>\n",
              "    <tr>\n",
              "      <th>25%</th>\n",
              "      <td>800.75000</td>\n",
              "      <td>26.000000</td>\n",
              "    </tr>\n",
              "    <tr>\n",
              "      <th>50%</th>\n",
              "      <td>1200.50000</td>\n",
              "      <td>30.000000</td>\n",
              "    </tr>\n",
              "    <tr>\n",
              "      <th>75%</th>\n",
              "      <td>1600.25000</td>\n",
              "      <td>35.000000</td>\n",
              "    </tr>\n",
              "    <tr>\n",
              "      <th>max</th>\n",
              "      <td>2000.00000</td>\n",
              "      <td>50.000000</td>\n",
              "    </tr>\n",
              "  </tbody>\n",
              "</table>\n",
              "</div>"
            ],
            "text/plain": [
              "               id        count\n",
              "count  1600.00000  1600.000000\n",
              "mean   1200.50000    31.070625\n",
              "std     462.02453     6.992134\n",
              "min     401.00000    13.000000\n",
              "25%     800.75000    26.000000\n",
              "50%    1200.50000    30.000000\n",
              "75%    1600.25000    35.000000\n",
              "max    2000.00000    50.000000"
            ]
          },
          "metadata": {
            "tags": []
          },
          "execution_count": 11
        }
      ]
    },
    {
      "metadata": {
        "id": "JAmCVbI5jka9",
        "colab_type": "code",
        "colab": {
          "base_uri": "https://localhost:8080/",
          "height": 204
        },
        "outputId": "74f89f8e-1f91-499d-bbde-8fbf88b5a5d3"
      },
      "cell_type": "code",
      "source": [
        "df_y.head()"
      ],
      "execution_count": 10,
      "outputs": [
        {
          "output_type": "execute_result",
          "data": {
            "text/html": [
              "<div>\n",
              "<style scoped>\n",
              "    .dataframe tbody tr th:only-of-type {\n",
              "        vertical-align: middle;\n",
              "    }\n",
              "\n",
              "    .dataframe tbody tr th {\n",
              "        vertical-align: top;\n",
              "    }\n",
              "\n",
              "    .dataframe thead th {\n",
              "        text-align: right;\n",
              "    }\n",
              "</style>\n",
              "<table border=\"1\" class=\"dataframe\">\n",
              "  <thead>\n",
              "    <tr style=\"text-align: right;\">\n",
              "      <th></th>\n",
              "      <th>id</th>\n",
              "      <th>count</th>\n",
              "    </tr>\n",
              "  </thead>\n",
              "  <tbody>\n",
              "    <tr>\n",
              "      <th>0</th>\n",
              "      <td>401</td>\n",
              "      <td>29</td>\n",
              "    </tr>\n",
              "    <tr>\n",
              "      <th>1</th>\n",
              "      <td>402</td>\n",
              "      <td>30</td>\n",
              "    </tr>\n",
              "    <tr>\n",
              "      <th>2</th>\n",
              "      <td>403</td>\n",
              "      <td>31</td>\n",
              "    </tr>\n",
              "    <tr>\n",
              "      <th>3</th>\n",
              "      <td>404</td>\n",
              "      <td>26</td>\n",
              "    </tr>\n",
              "    <tr>\n",
              "      <th>4</th>\n",
              "      <td>405</td>\n",
              "      <td>26</td>\n",
              "    </tr>\n",
              "  </tbody>\n",
              "</table>\n",
              "</div>"
            ],
            "text/plain": [
              "    id  count\n",
              "0  401     29\n",
              "1  402     30\n",
              "2  403     31\n",
              "3  404     26\n",
              "4  405     26"
            ]
          },
          "metadata": {
            "tags": []
          },
          "execution_count": 10
        }
      ]
    },
    {
      "metadata": {
        "id": "cFRUI-VnjkbG",
        "colab_type": "code",
        "colab": {
          "base_uri": "https://localhost:8080/",
          "height": 51
        },
        "outputId": "c7321586-7e06-4d25-9c9c-f6b4b48208d0"
      },
      "cell_type": "code",
      "source": [
        "print(train.shape)\n",
        "print(test.shape)"
      ],
      "execution_count": 11,
      "outputs": [
        {
          "output_type": "stream",
          "text": [
            "(1600, 480, 640, 3)\n",
            "(400, 480, 640, 3)\n"
          ],
          "name": "stdout"
        }
      ]
    },
    {
      "metadata": {
        "id": "qlJKBD5ljkbO",
        "colab_type": "code",
        "colab": {}
      },
      "cell_type": "code",
      "source": [
        "idx_test = np.random.choice(np.arange(len(train)), 400, replace=False)\n",
        "mask_test = np.zeros(len(train),dtype=bool) \n",
        "mask_test[idx_test] = True \n",
        "\n",
        "n_train = 800\n",
        "#ny_train = \n",
        "\n",
        "X_train = train[~mask_test][:n_train].astype('float32')\n",
        "Y_train = df_y['count'].values[~mask_test][:n_train]\n",
        "X_val = train[mask_test].astype('float32')\n",
        "Y_val = df_y['count'].values[mask_test]"
      ],
      "execution_count": 0,
      "outputs": []
    },
    {
      "metadata": {
        "id": "-wIizdC21Upk",
        "colab_type": "code",
        "colab": {}
      },
      "cell_type": "code",
      "source": [
        "\n",
        "X_train /= 255.0\n",
        "#Y_train = to_categorical(Y_train, num_classes=51)"
      ],
      "execution_count": 0,
      "outputs": []
    },
    {
      "metadata": {
        "id": "6GP0GBoh0V_-",
        "colab_type": "code",
        "colab": {}
      },
      "cell_type": "code",
      "source": [
        "#norm\n",
        "X_val /= 255.0\n",
        "#Y_val = to_categorical(Y_val, num_classes=51)"
      ],
      "execution_count": 0,
      "outputs": []
    },
    {
      "metadata": {
        "id": "Xug3gbU0jkbT",
        "colab_type": "code",
        "colab": {
          "base_uri": "https://localhost:8080/",
          "height": 85
        },
        "outputId": "87150219-c406-4be1-a606-b1e53266007f"
      },
      "cell_type": "code",
      "source": [
        "print(X_train.shape)\n",
        "print(Y_train.shape)\n",
        "print(X_val.shape)\n",
        "print(Y_val.shape)"
      ],
      "execution_count": 7,
      "outputs": [
        {
          "output_type": "stream",
          "text": [
            "(800, 480, 640, 3)\n",
            "(800,)\n",
            "(400, 480, 640, 3)\n",
            "(400,)\n"
          ],
          "name": "stdout"
        }
      ]
    },
    {
      "metadata": {
        "id": "M41GRBBvevuq",
        "colab_type": "code",
        "colab": {}
      },
      "cell_type": "code",
      "source": [
        "\n",
        "print(X_test.shape)"
      ],
      "execution_count": 0,
      "outputs": []
    },
    {
      "metadata": {
        "id": "aBopE0jyjkbb",
        "colab_type": "code",
        "colab": {
          "base_uri": "https://localhost:8080/",
          "height": 136
        },
        "outputId": "68338abb-6add-4085-f466-060232167903"
      },
      "cell_type": "code",
      "source": [
        "train[0][0]"
      ],
      "execution_count": 14,
      "outputs": [
        {
          "output_type": "execute_result",
          "data": {
            "text/plain": [
              "array([[0, 0, 0],\n",
              "       [0, 0, 0],\n",
              "       [0, 0, 0],\n",
              "       ...,\n",
              "       [0, 0, 0],\n",
              "       [0, 0, 0],\n",
              "       [0, 0, 0]], dtype=uint8)"
            ]
          },
          "metadata": {
            "tags": []
          },
          "execution_count": 14
        }
      ]
    },
    {
      "metadata": {
        "id": "Dx8jtUt2jkbp",
        "colab_type": "text"
      },
      "cell_type": "markdown",
      "source": [
        "## Arquitectura"
      ]
    },
    {
      "metadata": {
        "id": "iPlRidjnjkbr",
        "colab_type": "code",
        "colab": {}
      },
      "cell_type": "code",
      "source": [
        "model = Sequential()\n",
        "model.add(Conv2D(32,(3,3),padding='same',input_shape=X_train.shape[1:],kernel_regularizer=weight,activation='sigmoid'))\n",
        "model.add(BatchNormalization())\n",
        "model.add(MaxPooling2D(2,2))\n",
        "\n",
        "model.add(Conv2D(64,(3,3),padding='same',kernel_regularizer=weight,activation='sigmoid')) \n",
        "model.add(BatchNormalization())\n",
        "model.add(MaxPooling2D(2,2)) \n",
        "\n",
        "#tercera capa\n",
        "#aux.add(Conv2D(128,(3,3),padding='same',kernel_regularizer=weight,activation='tanh')) \n",
        "#aux.add(BatchNormalization())\n",
        "#aux.add(MaxPooling2D(2,2)) \n",
        "\n",
        "model.add(Conv2D(1,(1,1),padding='same',activation='sigmoid',kernel_regularizer=weight))\n",
        "\n",
        "\n",
        "model.compile( optimizer='adam', loss='mse') #mse\n",
        "model.fit(X_train, y_train,batch_size=16,epochs=150,validation_data=(X_test, y_test),verbose=1)"
      ],
      "execution_count": 0,
      "outputs": []
    },
    {
      "metadata": {
        "id": "5qPx56rtlfy7",
        "colab_type": "text"
      },
      "cell_type": "markdown",
      "source": [
        "model malos resultados, muy malos"
      ]
    },
    {
      "metadata": {
        "id": "q3VIDUvqjkbx",
        "colab_type": "code",
        "colab": {
          "base_uri": "https://localhost:8080/",
          "height": 476
        },
        "outputId": "8713d8c4-f8f0-4e70-e3a4-fdadf1842955"
      },
      "cell_type": "code",
      "source": [
        "model2 = Sequential()\n",
        "model2.add(Conv2D(32, (3, 3), padding='same',input_shape=X_train.shape[1:],activation='relu'))\n",
        "model2.add(Conv2D(32, (3, 3),padding='same',activation='relu'))\n",
        "model2.add(MaxPooling2D(pool_size=(2, 2)))\n",
        "model2.add(Conv2D(64, (3, 3),padding='same',activation='relu'))\n",
        "model2.add(Conv2D(64, (3, 3),padding='same',activation='relu'))\n",
        "model2.add(MaxPooling2D(pool_size=(2, 2)))\n",
        "model2.add(Flatten())\n",
        "model2.add(Dense(1024,activation='relu'))\n",
        "model2.add(Dropout(0.5))\n",
        "model2.add(Dense(2,activation='softmax'))\n",
        "model2.summary()\n"
      ],
      "execution_count": 15,
      "outputs": [
        {
          "output_type": "stream",
          "text": [
            "_________________________________________________________________\n",
            "Layer (type)                 Output Shape              Param #   \n",
            "=================================================================\n",
            "conv2d_1 (Conv2D)            (None, 480, 640, 32)      896       \n",
            "_________________________________________________________________\n",
            "conv2d_2 (Conv2D)            (None, 480, 640, 32)      9248      \n",
            "_________________________________________________________________\n",
            "max_pooling2d_1 (MaxPooling2 (None, 240, 320, 32)      0         \n",
            "_________________________________________________________________\n",
            "conv2d_3 (Conv2D)            (None, 240, 320, 64)      18496     \n",
            "_________________________________________________________________\n",
            "conv2d_4 (Conv2D)            (None, 240, 320, 64)      36928     \n",
            "_________________________________________________________________\n",
            "max_pooling2d_2 (MaxPooling2 (None, 120, 160, 64)      0         \n",
            "_________________________________________________________________\n",
            "flatten_1 (Flatten)          (None, 1228800)           0         \n",
            "_________________________________________________________________\n",
            "dense_1 (Dense)              (None, 1024)              1258292224\n",
            "_________________________________________________________________\n",
            "dropout_1 (Dropout)          (None, 1024)              0         \n",
            "_________________________________________________________________\n",
            "dense_2 (Dense)              (None, 2)                 2050      \n",
            "=================================================================\n",
            "Total params: 1,258,359,842\n",
            "Trainable params: 1,258,359,842\n",
            "Non-trainable params: 0\n",
            "_________________________________________________________________\n"
          ],
          "name": "stdout"
        }
      ]
    },
    {
      "metadata": {
        "id": "OJAJdNINjkb5",
        "colab_type": "code",
        "colab": {
          "base_uri": "https://localhost:8080/",
          "height": 51
        },
        "outputId": "9513ea06-c175-499d-f3d0-2b525cc76bef"
      },
      "cell_type": "code",
      "source": [
        "#train it\n",
        "#optimizer_ = SGD(lr=0.01,momentum=0.9)\n",
        "model2.compile(loss='mse', optimizer=\"adam\", metrics=['accuracy'])\n",
        "model2.fit(X_train, Y_train, batch_size=128,epochs=15,verbose=1, validation_data=(X_val,Y_val))"
      ],
      "execution_count": 0,
      "outputs": [
        {
          "output_type": "stream",
          "text": [
            "Train on 1300 samples, validate on 300 samples\n",
            "Epoch 1/15\n"
          ],
          "name": "stdout"
        }
      ]
    },
    {
      "metadata": {
        "id": "LLtnWd0QtEkm",
        "colab_type": "text"
      },
      "cell_type": "markdown",
      "source": [
        "model2 ño"
      ]
    },
    {
      "metadata": {
        "id": "dERIn6l1oewx",
        "colab_type": "code",
        "colab": {
          "base_uri": "https://localhost:8080/",
          "height": 510
        },
        "outputId": "57194790-cf67-4954-fd55-5fcf5495e2c5"
      },
      "cell_type": "code",
      "source": [
        "opt = rmsprop()\n",
        "batch_size = 10\n",
        "epochs = 25\n",
        "\n",
        "model3 = Sequential()\n",
        "model3.add(Conv2D(64, (5, 5), padding='same', input_shape=X_train.shape[1:],activation='relu'))\n",
        "model3.add(Conv2D(64, (3, 3), padding='same',activation='relu'))\n",
        "model3.add(MaxPooling2D(pool_size=(2, 2)))\n",
        "model3.add(Dropout(0.25))\n",
        "\n",
        "model3.add(Conv2D(32, (3, 3), padding='same',activation='relu'))\n",
        "model3.add(Conv2D(32, (3, 3), padding='same',activation='relu'))\n",
        "model3.add(MaxPooling2D(pool_size=(2, 2)))\n",
        "model3.add(Dropout(0.25))\n",
        "\n",
        "model3.add(Flatten())\n",
        "#model3.add(Dense(512,activation='relu'))\n",
        "model3.add(Dense(10,activation='relu'))\n",
        "model3.add(Dense(1,activation='linear'))\n",
        "\n",
        "model3.compile(optimizer=opt,loss=\"mse\")\n",
        "model3.summary()"
      ],
      "execution_count": 10,
      "outputs": [
        {
          "output_type": "stream",
          "text": [
            "_________________________________________________________________\n",
            "Layer (type)                 Output Shape              Param #   \n",
            "=================================================================\n",
            "conv2d_9 (Conv2D)            (None, 480, 640, 64)      4864      \n",
            "_________________________________________________________________\n",
            "conv2d_10 (Conv2D)           (None, 480, 640, 64)      36928     \n",
            "_________________________________________________________________\n",
            "max_pooling2d_5 (MaxPooling2 (None, 240, 320, 64)      0         \n",
            "_________________________________________________________________\n",
            "dropout_5 (Dropout)          (None, 240, 320, 64)      0         \n",
            "_________________________________________________________________\n",
            "conv2d_11 (Conv2D)           (None, 240, 320, 32)      18464     \n",
            "_________________________________________________________________\n",
            "conv2d_12 (Conv2D)           (None, 240, 320, 32)      9248      \n",
            "_________________________________________________________________\n",
            "max_pooling2d_6 (MaxPooling2 (None, 120, 160, 32)      0         \n",
            "_________________________________________________________________\n",
            "dropout_6 (Dropout)          (None, 120, 160, 32)      0         \n",
            "_________________________________________________________________\n",
            "flatten_3 (Flatten)          (None, 614400)            0         \n",
            "_________________________________________________________________\n",
            "dense_5 (Dense)              (None, 10)                6144010   \n",
            "_________________________________________________________________\n",
            "dense_6 (Dense)              (None, 1)                 11        \n",
            "=================================================================\n",
            "Total params: 6,213,525\n",
            "Trainable params: 6,213,525\n",
            "Non-trainable params: 0\n",
            "_________________________________________________________________\n"
          ],
          "name": "stdout"
        }
      ]
    },
    {
      "metadata": {
        "id": "9PHHjtONhXlq",
        "colab_type": "code",
        "colab": {
          "base_uri": "https://localhost:8080/",
          "height": 884
        },
        "outputId": "dbc46c31-f9c6-4a3e-952b-1ccb73dbda0a"
      },
      "cell_type": "code",
      "source": [
        "hist_m3 = model3.fit(X_train, Y_train,epochs=epochs,batch_size=batch_size, validation_data=(X_val, Y_val), shuffle=True)"
      ],
      "execution_count": 12,
      "outputs": [
        {
          "output_type": "stream",
          "text": [
            "Train on 800 samples, validate on 400 samples\n",
            "Epoch 1/25\n",
            "800/800 [==============================] - 94s 118ms/step - loss: 422.1041 - val_loss: 427.2658\n",
            "Epoch 2/25\n",
            "800/800 [==============================] - 88s 110ms/step - loss: 132.4497 - val_loss: 48.0108\n",
            "Epoch 3/25\n",
            "800/800 [==============================] - 88s 110ms/step - loss: 88.8760 - val_loss: 59.4795\n",
            "Epoch 4/25\n",
            "800/800 [==============================] - 88s 110ms/step - loss: 71.4008 - val_loss: 110.4179\n",
            "Epoch 5/25\n",
            "800/800 [==============================] - 88s 110ms/step - loss: 59.4453 - val_loss: 35.2457\n",
            "Epoch 6/25\n",
            "800/800 [==============================] - 88s 110ms/step - loss: 57.4961 - val_loss: 45.7613\n",
            "Epoch 7/25\n",
            "800/800 [==============================] - 88s 110ms/step - loss: 215.3988 - val_loss: 64.8588\n",
            "Epoch 8/25\n",
            "800/800 [==============================] - 88s 110ms/step - loss: 34.1773 - val_loss: 20.4548\n",
            "Epoch 9/25\n",
            "800/800 [==============================] - 88s 111ms/step - loss: 36.0823 - val_loss: 16.6851\n",
            "Epoch 10/25\n",
            "800/800 [==============================] - 88s 110ms/step - loss: 38.9692 - val_loss: 16.7963\n",
            "Epoch 11/25\n",
            "800/800 [==============================] - 88s 110ms/step - loss: 24.8084 - val_loss: 112.8320\n",
            "Epoch 12/25\n",
            "800/800 [==============================] - 88s 110ms/step - loss: 18.9322 - val_loss: 30.5308\n",
            "Epoch 13/25\n",
            "800/800 [==============================] - 88s 110ms/step - loss: 498.4593 - val_loss: 38.9526\n",
            "Epoch 14/25\n",
            "800/800 [==============================] - 88s 110ms/step - loss: 8.2235 - val_loss: 14.0947\n",
            "Epoch 15/25\n",
            "800/800 [==============================] - 88s 110ms/step - loss: 45.2137 - val_loss: 19.6721\n",
            "Epoch 16/25\n",
            "800/800 [==============================] - 88s 110ms/step - loss: 45.0754 - val_loss: 31.3363\n",
            "Epoch 17/25\n",
            "800/800 [==============================] - 88s 110ms/step - loss: 8.5815 - val_loss: 30.4087\n",
            "Epoch 18/25\n",
            "800/800 [==============================] - 88s 110ms/step - loss: 9.3961 - val_loss: 13.8575\n",
            "Epoch 19/25\n",
            "800/800 [==============================] - 88s 110ms/step - loss: 9.7442 - val_loss: 57.1113\n",
            "Epoch 20/25\n",
            "800/800 [==============================] - 88s 110ms/step - loss: 8.2795 - val_loss: 21.3974\n",
            "Epoch 21/25\n",
            "800/800 [==============================] - 88s 110ms/step - loss: 22.4936 - val_loss: 15.1618\n",
            "Epoch 22/25\n",
            "800/800 [==============================] - 88s 110ms/step - loss: 7.2100 - val_loss: 13.9122\n",
            "Epoch 23/25\n",
            "800/800 [==============================] - 88s 110ms/step - loss: 8.1124 - val_loss: 13.8591\n",
            "Epoch 24/25\n",
            "800/800 [==============================] - 88s 110ms/step - loss: 6.4879 - val_loss: 26.0920\n",
            "Epoch 25/25\n",
            "800/800 [==============================] - 88s 110ms/step - loss: 5.5044 - val_loss: 18.3483\n"
          ],
          "name": "stdout"
        }
      ]
    },
    {
      "metadata": {
        "id": "S_CA5YgSoCcg",
        "colab_type": "text"
      },
      "cell_type": "markdown",
      "source": [
        "model3 mejorando... parece~~"
      ]
    },
    {
      "metadata": {
        "id": "uUCwvrKcqfZ7",
        "colab_type": "code",
        "colab": {}
      },
      "cell_type": "code",
      "source": [
        "model3.save(\"drive/Redes neuronales/Tarea 3/m3.h5\")"
      ],
      "execution_count": 0,
      "outputs": []
    },
    {
      "metadata": {
        "id": "b61fEQhLo46I",
        "colab_type": "code",
        "colab": {
          "base_uri": "https://localhost:8080/",
          "height": 294
        },
        "outputId": "6b8bb8bb-5b52-4c07-9946-4830d9b7b151"
      },
      "cell_type": "code",
      "source": [
        "plt.plot(range(epochs), hist_m3.history['loss'], 'bo-', label = 'Entrenamiento')\n",
        "plt.plot(range(epochs), hist_m3.history['val_loss'], 'ro-', label = 'Validación')\n",
        "plt.title('Función de pérdida durante el entrenamiento')\n",
        "plt.ylabel('MSE')\n",
        "plt.xlabel('Epochs')\n",
        "plt.legend()\n",
        "plt.show()"
      ],
      "execution_count": 16,
      "outputs": [
        {
          "output_type": "display_data",
          "data": {
            "image/png": "[encoded data removed]",
            "text/plain": [
              "<matplotlib.figure.Figure at 0x7f04eceb8908>"
            ]
          },
          "metadata": {
            "tags": []
          }
        }
      ]
    },
    {
      "metadata": {
        "id": "rkun5ObnpPJG",
        "colab_type": "code",
        "colab": {}
      },
      "cell_type": "code",
      "source": [
        "pred_m3 = model3.predict(X_train[:20]) "
      ],
      "execution_count": 0,
      "outputs": []
    },
    {
      "metadata": {
        "id": "uP4f6ZdRtqIF",
        "colab_type": "code",
        "colab": {
          "base_uri": "https://localhost:8080/",
          "height": 357
        },
        "outputId": "ae5dc44b-952d-4ccd-e19b-4cb3a5c28735"
      },
      "cell_type": "code",
      "source": [
        "pred_m3"
      ],
      "execution_count": 20,
      "outputs": [
        {
          "output_type": "execute_result",
          "data": {
            "text/plain": [
              "array([[27.55176 ],\n",
              "       [28.801653],\n",
              "       [24.559893],\n",
              "       [24.650225],\n",
              "       [25.535933],\n",
              "       [26.349865],\n",
              "       [28.558277],\n",
              "       [34.851006],\n",
              "       [33.81912 ],\n",
              "       [38.339577],\n",
              "       [36.865234],\n",
              "       [39.319733],\n",
              "       [33.08564 ],\n",
              "       [32.679066],\n",
              "       [36.416897],\n",
              "       [34.53402 ],\n",
              "       [39.045116],\n",
              "       [33.376648],\n",
              "       [40.836884],\n",
              "       [36.022575]], dtype=float32)"
            ]
          },
          "metadata": {
            "tags": []
          },
          "execution_count": 20
        }
      ]
    },
    {
      "metadata": {
        "id": "vm-jIxLWtsCg",
        "colab_type": "code",
        "colab": {
          "base_uri": "https://localhost:8080/",
          "height": 51
        },
        "outputId": "455cdf19-b784-458b-f149-55312f6666b3"
      },
      "cell_type": "code",
      "source": [
        "Y_train[:20]"
      ],
      "execution_count": 22,
      "outputs": [
        {
          "output_type": "execute_result",
          "data": {
            "text/plain": [
              "array([29, 31, 26, 26, 28, 27, 31, 37, 37, 41, 40, 42, 36, 37, 38, 37, 40,\n",
              "       37, 41, 37])"
            ]
          },
          "metadata": {
            "tags": []
          },
          "execution_count": 22
        }
      ]
    },
    {
      "metadata": {
        "id": "pVz5gW2ysJi8",
        "colab_type": "code",
        "colab": {}
      },
      "cell_type": "code",
      "source": [
        "test = np.load('drive/Redes neuronales/Tarea 3/images_test.npy')"
      ],
      "execution_count": 0,
      "outputs": []
    },
    {
      "metadata": {
        "id": "_e38BGXKuaZ5",
        "colab_type": "code",
        "colab": {}
      },
      "cell_type": "code",
      "source": [
        "test = test.astype('float32')"
      ],
      "execution_count": 0,
      "outputs": []
    },
    {
      "metadata": {
        "id": "4tkdmplossg6",
        "colab_type": "code",
        "colab": {}
      },
      "cell_type": "code",
      "source": [
        "test /= 255.0"
      ],
      "execution_count": 0,
      "outputs": []
    },
    {
      "metadata": {
        "id": "zZosJIRHsvGr",
        "colab_type": "code",
        "colab": {}
      },
      "cell_type": "code",
      "source": [
        "y_pred_m3 = model3.predict(test) "
      ],
      "execution_count": 0,
      "outputs": []
    },
    {
      "metadata": {
        "id": "mlttZ9M8u6Na",
        "colab_type": "code",
        "colab": {
          "base_uri": "https://localhost:8080/",
          "height": 6817
        },
        "outputId": "24d99012-2653-408a-ffea-5f9701cb815b"
      },
      "cell_type": "code",
      "source": [
        "y_pred_m3"
      ],
      "execution_count": 29,
      "outputs": [
        {
          "output_type": "execute_result",
          "data": {
            "text/plain": [
              "array([[28.620975],\n",
              "       [33.943134],\n",
              "       [35.804096],\n",
              "       [31.226292],\n",
              "       [36.233475],\n",
              "       [33.861343],\n",
              "       [31.40075 ],\n",
              "       [31.352638],\n",
              "       [24.411125],\n",
              "       [25.030483],\n",
              "       [21.5725  ],\n",
              "       [19.499924],\n",
              "       [21.114452],\n",
              "       [23.490452],\n",
              "       [16.83248 ],\n",
              "       [17.757652],\n",
              "       [16.025177],\n",
              "       [22.793606],\n",
              "       [26.690033],\n",
              "       [25.315105],\n",
              "       [26.822224],\n",
              "       [21.507145],\n",
              "       [24.21297 ],\n",
              "       [22.128227],\n",
              "       [22.038546],\n",
              "       [22.334044],\n",
              "       [23.765635],\n",
              "       [19.743666],\n",
              "       [24.829838],\n",
              "       [22.877352],\n",
              "       [23.662052],\n",
              "       [24.832804],\n",
              "       [21.47552 ],\n",
              "       [19.73273 ],\n",
              "       [17.575193],\n",
              "       [21.549496],\n",
              "       [25.260944],\n",
              "       [22.134514],\n",
              "       [22.635584],\n",
              "       [26.537497],\n",
              "       [25.602686],\n",
              "       [21.19317 ],\n",
              "       [19.208853],\n",
              "       [18.55799 ],\n",
              "       [25.338284],\n",
              "       [24.79763 ],\n",
              "       [21.054749],\n",
              "       [22.538132],\n",
              "       [22.650618],\n",
              "       [25.926855],\n",
              "       [22.18591 ],\n",
              "       [17.404165],\n",
              "       [20.167015],\n",
              "       [21.445543],\n",
              "       [23.003801],\n",
              "       [26.421982],\n",
              "       [24.067337],\n",
              "       [28.244955],\n",
              "       [24.831493],\n",
              "       [17.111507],\n",
              "       [17.963022],\n",
              "       [17.782183],\n",
              "       [22.931765],\n",
              "       [26.964231],\n",
              "       [26.099892],\n",
              "       [23.3218  ],\n",
              "       [28.312141],\n",
              "       [31.850462],\n",
              "       [28.22997 ],\n",
              "       [27.459974],\n",
              "       [28.49371 ],\n",
              "       [32.191254],\n",
              "       [39.548157],\n",
              "       [36.404762],\n",
              "       [40.199776],\n",
              "       [34.49633 ],\n",
              "       [38.602684],\n",
              "       [36.104557],\n",
              "       [36.06313 ],\n",
              "       [37.177696],\n",
              "       [35.466885],\n",
              "       [42.297024],\n",
              "       [39.194675],\n",
              "       [44.07321 ],\n",
              "       [28.29239 ],\n",
              "       [28.328238],\n",
              "       [28.69598 ],\n",
              "       [32.379116],\n",
              "       [29.618568],\n",
              "       [27.22801 ],\n",
              "       [26.245558],\n",
              "       [27.028858],\n",
              "       [25.314766],\n",
              "       [27.04758 ],\n",
              "       [29.158613],\n",
              "       [28.050426],\n",
              "       [27.953384],\n",
              "       [27.760864],\n",
              "       [31.23007 ],\n",
              "       [29.314272],\n",
              "       [28.915306],\n",
              "       [26.037971],\n",
              "       [19.676708],\n",
              "       [21.343601],\n",
              "       [21.068008],\n",
              "       [22.542635],\n",
              "       [23.72571 ],\n",
              "       [28.406029],\n",
              "       [23.145775],\n",
              "       [26.115997],\n",
              "       [22.280815],\n",
              "       [28.948565],\n",
              "       [35.473568],\n",
              "       [38.36805 ],\n",
              "       [33.83216 ],\n",
              "       [30.416794],\n",
              "       [37.287617],\n",
              "       [40.6127  ],\n",
              "       [36.1725  ],\n",
              "       [38.633636],\n",
              "       [35.160484],\n",
              "       [32.308964],\n",
              "       [38.660877],\n",
              "       [29.160866],\n",
              "       [34.21268 ],\n",
              "       [27.516352],\n",
              "       [28.241745],\n",
              "       [33.332268],\n",
              "       [32.90684 ],\n",
              "       [35.93893 ],\n",
              "       [29.142374],\n",
              "       [35.86355 ],\n",
              "       [37.99666 ],\n",
              "       [36.565662],\n",
              "       [31.922842],\n",
              "       [32.82516 ],\n",
              "       [36.296467],\n",
              "       [35.98668 ],\n",
              "       [37.52617 ],\n",
              "       [32.425823],\n",
              "       [37.763977],\n",
              "       [34.56213 ],\n",
              "       [28.861183],\n",
              "       [32.22986 ],\n",
              "       [37.820297],\n",
              "       [32.425396],\n",
              "       [27.207369],\n",
              "       [33.07771 ],\n",
              "       [38.403713],\n",
              "       [36.905823],\n",
              "       [28.983242],\n",
              "       [27.868513],\n",
              "       [31.698267],\n",
              "       [30.04367 ],\n",
              "       [31.826103],\n",
              "       [27.981482],\n",
              "       [26.407778],\n",
              "       [31.756845],\n",
              "       [28.409286],\n",
              "       [31.023262],\n",
              "       [30.069286],\n",
              "       [32.127995],\n",
              "       [30.309732],\n",
              "       [32.505627],\n",
              "       [33.73245 ],\n",
              "       [39.620228],\n",
              "       [37.296974],\n",
              "       [38.59769 ],\n",
              "       [41.46812 ],\n",
              "       [34.3489  ],\n",
              "       [28.68864 ],\n",
              "       [28.482664],\n",
              "       [32.448185],\n",
              "       [30.53484 ],\n",
              "       [35.697147],\n",
              "       [35.04328 ],\n",
              "       [35.592888],\n",
              "       [42.509262],\n",
              "       [42.761185],\n",
              "       [41.225506],\n",
              "       [46.057007],\n",
              "       [37.423187],\n",
              "       [34.169262],\n",
              "       [34.95659 ],\n",
              "       [33.727142],\n",
              "       [31.003487],\n",
              "       [36.160313],\n",
              "       [35.84704 ],\n",
              "       [29.145355],\n",
              "       [27.606104],\n",
              "       [28.025702],\n",
              "       [27.987352],\n",
              "       [29.073439],\n",
              "       [29.377678],\n",
              "       [30.543186],\n",
              "       [32.1779  ],\n",
              "       [30.094223],\n",
              "       [28.260664],\n",
              "       [27.791729],\n",
              "       [28.251402],\n",
              "       [30.325867],\n",
              "       [28.084902],\n",
              "       [26.500896],\n",
              "       [30.213238],\n",
              "       [26.213022],\n",
              "       [28.684341],\n",
              "       [22.749794],\n",
              "       [22.351574],\n",
              "       [25.505457],\n",
              "       [24.616327],\n",
              "       [26.490612],\n",
              "       [27.706697],\n",
              "       [26.294071],\n",
              "       [29.672787],\n",
              "       [28.846966],\n",
              "       [27.904297],\n",
              "       [28.859148],\n",
              "       [28.103306],\n",
              "       [30.67959 ],\n",
              "       [32.371227],\n",
              "       [39.548325],\n",
              "       [38.075684],\n",
              "       [35.586956],\n",
              "       [35.994366],\n",
              "       [33.731876],\n",
              "       [30.635387],\n",
              "       [24.43523 ],\n",
              "       [32.49315 ],\n",
              "       [33.036007],\n",
              "       [33.742428],\n",
              "       [26.981829],\n",
              "       [25.30168 ],\n",
              "       [28.996946],\n",
              "       [31.982567],\n",
              "       [31.011648],\n",
              "       [30.750683],\n",
              "       [29.862513],\n",
              "       [28.498583],\n",
              "       [24.544489],\n",
              "       [26.008627],\n",
              "       [27.222462],\n",
              "       [26.158333],\n",
              "       [23.73996 ],\n",
              "       [32.62019 ],\n",
              "       [28.866348],\n",
              "       [31.080555],\n",
              "       [32.853207],\n",
              "       [33.32507 ],\n",
              "       [31.2562  ],\n",
              "       [31.726582],\n",
              "       [32.940475],\n",
              "       [33.664516],\n",
              "       [31.651924],\n",
              "       [27.56863 ],\n",
              "       [34.841675],\n",
              "       [29.879799],\n",
              "       [29.01297 ],\n",
              "       [30.5039  ],\n",
              "       [32.980667],\n",
              "       [24.862783],\n",
              "       [20.380524],\n",
              "       [21.266943],\n",
              "       [20.75203 ],\n",
              "       [23.31218 ],\n",
              "       [26.417757],\n",
              "       [31.134405],\n",
              "       [26.25177 ],\n",
              "       [23.74349 ],\n",
              "       [23.400442],\n",
              "       [27.878794],\n",
              "       [28.555822],\n",
              "       [26.961184],\n",
              "       [27.845146],\n",
              "       [32.56926 ],\n",
              "       [26.713305],\n",
              "       [27.307081],\n",
              "       [33.126633],\n",
              "       [27.10631 ],\n",
              "       [27.01863 ],\n",
              "       [33.074947],\n",
              "       [34.721226],\n",
              "       [32.78538 ],\n",
              "       [30.22579 ],\n",
              "       [27.790878],\n",
              "       [27.781553],\n",
              "       [30.143406],\n",
              "       [31.159626],\n",
              "       [29.818148],\n",
              "       [24.88453 ],\n",
              "       [27.748482],\n",
              "       [35.832912],\n",
              "       [33.795334],\n",
              "       [32.121605],\n",
              "       [30.873898],\n",
              "       [24.673763],\n",
              "       [24.051924],\n",
              "       [27.622753],\n",
              "       [29.346434],\n",
              "       [28.790922],\n",
              "       [30.65882 ],\n",
              "       [30.270266],\n",
              "       [33.815228],\n",
              "       [29.65677 ],\n",
              "       [21.75109 ],\n",
              "       [25.901306],\n",
              "       [24.61165 ],\n",
              "       [25.217758],\n",
              "       [26.079357],\n",
              "       [23.944393],\n",
              "       [25.373537],\n",
              "       [25.376768],\n",
              "       [30.098824],\n",
              "       [28.633163],\n",
              "       [26.380346],\n",
              "       [33.167606],\n",
              "       [30.510365],\n",
              "       [30.400797],\n",
              "       [36.33636 ],\n",
              "       [36.031677],\n",
              "       [35.78072 ],\n",
              "       [36.109642],\n",
              "       [33.79822 ],\n",
              "       [30.429974],\n",
              "       [32.755756],\n",
              "       [27.260178],\n",
              "       [27.979336],\n",
              "       [27.913303],\n",
              "       [28.295763],\n",
              "       [31.73066 ],\n",
              "       [23.916718],\n",
              "       [24.500238],\n",
              "       [23.685251],\n",
              "       [28.57892 ],\n",
              "       [33.92416 ],\n",
              "       [30.256218],\n",
              "       [24.802345],\n",
              "       [25.297028],\n",
              "       [24.56616 ],\n",
              "       [23.886627],\n",
              "       [26.792969],\n",
              "       [29.03716 ],\n",
              "       [27.618956],\n",
              "       [28.455448],\n",
              "       [30.074173],\n",
              "       [30.286694],\n",
              "       [31.418972],\n",
              "       [28.793037],\n",
              "       [26.058382],\n",
              "       [25.319204],\n",
              "       [28.64064 ],\n",
              "       [28.212261],\n",
              "       [29.857073],\n",
              "       [28.68658 ],\n",
              "       [29.35583 ],\n",
              "       [30.224442],\n",
              "       [29.630161],\n",
              "       [38.391155],\n",
              "       [31.914452],\n",
              "       [31.245523],\n",
              "       [28.795452],\n",
              "       [26.994164],\n",
              "       [24.168129],\n",
              "       [27.61246 ],\n",
              "       [30.645247],\n",
              "       [35.251286],\n",
              "       [36.487392],\n",
              "       [33.111656],\n",
              "       [26.95933 ],\n",
              "       [35.309635],\n",
              "       [32.823593],\n",
              "       [33.49119 ],\n",
              "       [31.91188 ],\n",
              "       [32.790104],\n",
              "       [27.85697 ],\n",
              "       [29.042664],\n",
              "       [27.232609],\n",
              "       [27.350956],\n",
              "       [22.78048 ],\n",
              "       [27.941664],\n",
              "       [28.735115],\n",
              "       [30.386549],\n",
              "       [32.734917],\n",
              "       [26.800543],\n",
              "       [26.032892],\n",
              "       [28.952831],\n",
              "       [28.812622],\n",
              "       [33.601208],\n",
              "       [29.14372 ],\n",
              "       [35.354797],\n",
              "       [33.040455],\n",
              "       [31.932142],\n",
              "       [25.176653],\n",
              "       [25.531193],\n",
              "       [30.652288],\n",
              "       [26.17257 ],\n",
              "       [27.671535],\n",
              "       [28.867933],\n",
              "       [30.215237],\n",
              "       [28.90964 ],\n",
              "       [25.889812]], dtype=float32)"
            ]
          },
          "metadata": {
            "tags": []
          },
          "execution_count": 29
        }
      ]
    },
    {
      "metadata": {
        "id": "YHYDT8UWwCwn",
        "colab_type": "code",
        "colab": {}
      },
      "cell_type": "code",
      "source": [
        "test_ids = np.array(range(1,401))"
      ],
      "execution_count": 0,
      "outputs": []
    },
    {
      "metadata": {
        "id": "mvNZQhmPwkip",
        "colab_type": "code",
        "colab": {}
      },
      "cell_type": "code",
      "source": [
        "prediction_test = np.concatenate(np.round(y_pred_m3))"
      ],
      "execution_count": 0,
      "outputs": []
    },
    {
      "metadata": {
        "id": "CdyBzQHsxCkG",
        "colab_type": "code",
        "colab": {
          "base_uri": "https://localhost:8080/",
          "height": 68
        },
        "outputId": "694977ed-3095-4059-e6a8-53d9a5f5d68d"
      },
      "cell_type": "code",
      "source": [
        "print(test_ids.shape)\n",
        "print(prediction_test.shape)\n",
        "print(y_pred_m3.shape)"
      ],
      "execution_count": 36,
      "outputs": [
        {
          "output_type": "stream",
          "text": [
            "(400,)\n",
            "(400,)\n",
            "(400, 1)\n"
          ],
          "name": "stdout"
        }
      ]
    },
    {
      "metadata": {
        "id": "sz1iNVeAvMRC",
        "colab_type": "code",
        "colab": {}
      },
      "cell_type": "code",
      "source": [
        "d = {'id': test_ids, 'count': prediction_test}\n",
        "entrega = pd.DataFrame(data=d,columns=['id','count'])\n",
        "entrega.to_csv('drive/Redes neuronales/Tarea 3/mysubmission.csv', index=False)"
      ],
      "execution_count": 0,
      "outputs": []
    }
  ]
}