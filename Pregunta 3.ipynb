{
 "cells": [
  {
   "cell_type": "markdown",
   "metadata": {},
   "source": [
    "## Challenge: Crowd (Object) Counting"
   ]
  },
  {
   "cell_type": "markdown",
   "metadata": {},
   "source": [
    "<img src=\"http://personal.ie.cuhk.edu.hk/~ccloy/images/shopping_mall_annotated.jpg\" title=\"Crowd Counting\" width=\"30%\"/>\n",
    "\n",
    "Para esta sección final se evaluará todo lo que han aprendido a través de un desafío en donde puedan competir y medir sus resultados *in time* en la plataforma de __[Kaggle](https://www.kaggle.com/)__. El problema y todo su detalle puede ser encontrado en la página de la competencia a través del siguiente link:\n",
    "\n",
    "\n",
    "<center><H2> __[Competencia Object Counting](https://www.kaggle.com/t/59c93ca0e8ae47999f9287a5751d6402)__ </H2></center>\n",
    "\n",
    "\n",
    "\n",
    "Para esto deberán crearse una cuenta en la plataforma *Kaggle* y subir sus respuestas a ésta. Por favor crearse nombres que sean fácil identificar después para saber quién fue quién, sino no podrán tener la nota (o en el correo de entrega ponen cual es su nombre de usuario en la competencia).\n",
    "\n",
    "*Nota: El puntaje que entregará al estar participando en la competencia (menos de 2 puntos al *benchmark* que se presenta) y el lugar obtenido se presenta en la página de Kaggle.*\n",
    "\n",
    "> Las entregas en *csv* pueden ser generadas de la siguiente manera:\n",
    "```python\n",
    "import pandas as pd\n",
    "d = {'id': test_ids, 'count': prediction_test}\n",
    "entrega = pd.DataFrame(data=d,columns=['id','count'])\n",
    "entrega.to_csv('mysubmission.csv', index=False)\n",
    "```\n",
    "\n",
    "> Los archivos binarios de numpy pueden ser cargados facilmente con el siguiente comando:\n",
    "```python\n",
    "import numpy as np\n",
    "dato = np.load('binary_file.npy')\n",
    "```\n",
    "\n",
    "> Las imagenes en python pueden ser cargadas con la librería Pillow y transformadas a numpy array con el siguiente comando:\n",
    "```python\n",
    "from PIL import Image\n",
    "img = Image.open(\"path/to/image.jpg or png\")\n",
    "np.asarray(img)\n",
    "```"
   ]
  }
 ],
 "metadata": {
  "kernelspec": {
   "display_name": "Python 3",
   "language": "python",
   "name": "python3"
  },
  "language_info": {
   "codemirror_mode": {
    "name": "ipython",
    "version": 3
   },
   "file_extension": ".py",
   "mimetype": "text/x-python",
   "name": "python",
   "nbconvert_exporter": "python",
   "pygments_lexer": "ipython3",
   "version": "3.5.2"
  }
 },
 "nbformat": 4,
 "nbformat_minor": 2
}
