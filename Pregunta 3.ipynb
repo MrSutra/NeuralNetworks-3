{
  "nbformat": 4,
  "nbformat_minor": 0,
  "metadata": {
    "colab": {
      "name": "Pregunta 3.ipynb",
      "version": "0.3.2",
      "provenance": [],
      "collapsed_sections": []
    },
    "kernelspec": {
      "display_name": "Python 3",
      "language": "python",
      "name": "python3"
    },
    "accelerator": "GPU"
  },
  "cells": [
    {
      "metadata": {
        "id": "NKq6NyCqjkaF",
        "colab_type": "text"
      },
      "cell_type": "markdown",
      "source": [
        "## Challenge: Crowd (Object) Counting"
      ]
    },
    {
      "metadata": {
        "id": "XyXcUJ5WjkaI",
        "colab_type": "text"
      },
      "cell_type": "markdown",
      "source": [
        "<img src=\"http://personal.ie.cuhk.edu.hk/~ccloy/images/shopping_mall_annotated.jpg\" title=\"Crowd Counting\" width=\"30%\"/>\n",
        "\n",
        "Para esta sección final se evaluará todo lo que han aprendido a través de un desafío en donde puedan competir y medir sus resultados *in time* en la plataforma de __[Kaggle](https://www.kaggle.com/)__. El problema y todo su detalle puede ser encontrado en la página de la competencia a través del siguiente link:\n",
        "\n",
        "\n",
        "<center><H2> __[Competencia Object Counting](https://www.kaggle.com/t/59c93ca0e8ae47999f9287a5751d6402)__ </H2></center>\n",
        "\n",
        "\n",
        "\n",
        "Para esto deberán crearse una cuenta en la plataforma *Kaggle* y subir sus respuestas a ésta. Por favor crearse nombres que sean fácil identificar después para saber quién fue quién, sino no podrán tener la nota (o en el correo de entrega ponen cual es su nombre de usuario en la competencia).\n",
        "\n",
        "*Nota: El puntaje que entregará al estar participando en la competencia (menos de 2 puntos al *benchmark* que se presenta) y el lugar obtenido se presenta en la página de Kaggle.*\n",
        "\n",
        "> Las entregas en *csv* pueden ser generadas de la siguiente manera:\n",
        "```python\n",
        "import pandas as pd\n",
        "d = {'id': test_ids, 'count': prediction_test}\n",
        "entrega = pd.DataFrame(data=d,columns=['id','count'])\n",
        "entrega.to_csv('mysubmission.csv', index=False)\n",
        "```\n",
        "\n",
        "> Los archivos binarios de numpy pueden ser cargados facilmente con el siguiente comando:\n",
        "```python\n",
        "import numpy as np\n",
        "dato = np.load('binary_file.npy')\n",
        "```\n",
        "\n",
        "> Las imagenes en python pueden ser cargadas con la librería Pillow y transformadas a numpy array con el siguiente comando:\n",
        "```python\n",
        "from PIL import Image\n",
        "img = Image.open(\"path/to/image.jpg or png\")\n",
        "np.asarray(img)\n",
        "```"
      ]
    },
    {
      "metadata": {
        "id": "x4H4FGE9jnTX",
        "colab_type": "code",
        "colab": {
          "base_uri": "https://localhost:8080/",
          "height": 2366
        },
        "outputId": "59105a3a-1483-4063-e075-8ece39c61ee0"
      },
      "cell_type": "code",
      "source": [
        "!apt-get install -y -qq software-properties-common python-software-properties module-init-tools\n",
        "!add-apt-repository -y ppa:alessandro-strada/ppa 2>&1 > /dev/null\n",
        "!apt-get update -qq 2>&1 > /dev/null\n",
        "!apt-get -y install -qq google-drive-ocamlfuse fuse\n",
        "from google.colab import auth\n",
        "auth.authenticate_user()\n",
        "from oauth2client.client import GoogleCredentials\n",
        "creds = GoogleCredentials.get_application_default()\n",
        "import getpass\n",
        "!google-drive-ocamlfuse -headless -id={creds.client_id} -secret={creds.client_secret} < /dev/null 2>&1 | grep URL\n",
        "vcode = getpass.getpass()\n",
        "!echo {vcode} | google-drive-ocamlfuse -headless -id={creds.client_id} -secret={creds.client_secret}\n",
        "\n",
        "!mkdir -p drive\n",
        "!google-drive-ocamlfuse drive"
      ],
      "execution_count": 1,
      "outputs": [
        {
          "output_type": "stream",
          "text": [
            "Preconfiguring packages ...\n",
            "Selecting previously unselected package cron.\n",
            "(Reading database ... 18408 files and directories currently installed.)\n",
            "Preparing to unpack .../00-cron_3.0pl1-128ubuntu5_amd64.deb ...\n",
            "Unpacking cron (3.0pl1-128ubuntu5) ...\n",
            "Selecting previously unselected package libapparmor1:amd64.\n",
            "Preparing to unpack .../01-libapparmor1_2.11.0-2ubuntu17.1_amd64.deb ...\n",
            "Unpacking libapparmor1:amd64 (2.11.0-2ubuntu17.1) ...\n",
            "Selecting previously unselected package libdbus-1-3:amd64.\n",
            "Preparing to unpack .../02-libdbus-1-3_1.10.22-1ubuntu1_amd64.deb ...\n",
            "Unpacking libdbus-1-3:amd64 (1.10.22-1ubuntu1) ...\n",
            "Selecting previously unselected package dbus.\n",
            "Preparing to unpack .../03-dbus_1.10.22-1ubuntu1_amd64.deb ...\n",
            "Unpacking dbus (1.10.22-1ubuntu1) ...\n",
            "Selecting previously unselected package dirmngr.\n",
            "Preparing to unpack .../04-dirmngr_2.1.15-1ubuntu8.1_amd64.deb ...\n",
            "Unpacking dirmngr (2.1.15-1ubuntu8.1) ...\n",
            "Selecting previously unselected package distro-info-data.\n",
            "Preparing to unpack .../05-distro-info-data_0.36ubuntu0.2_all.deb ...\n",
            "Unpacking distro-info-data (0.36ubuntu0.2) ...\n",
            "Selecting previously unselected package libkmod2:amd64.\n",
            "Preparing to unpack .../06-libkmod2_24-1ubuntu2_amd64.deb ...\n",
            "Unpacking libkmod2:amd64 (24-1ubuntu2) ...\n",
            "Selecting previously unselected package kmod.\n",
            "Preparing to unpack .../07-kmod_24-1ubuntu2_amd64.deb ...\n",
            "Unpacking kmod (24-1ubuntu2) ...\n",
            "Selecting previously unselected package lsb-release.\n",
            "Preparing to unpack .../08-lsb-release_9.20160110ubuntu5_all.deb ...\n",
            "Unpacking lsb-release (9.20160110ubuntu5) ...\n",
            "Selecting previously unselected package libgirepository-1.0-1:amd64.\n",
            "Preparing to unpack .../09-libgirepository-1.0-1_1.54.1-1_amd64.deb ...\n",
            "Unpacking libgirepository-1.0-1:amd64 (1.54.1-1) ...\n",
            "Selecting previously unselected package gir1.2-glib-2.0:amd64.\n",
            "Preparing to unpack .../10-gir1.2-glib-2.0_1.54.1-1_amd64.deb ...\n",
            "Unpacking gir1.2-glib-2.0:amd64 (1.54.1-1) ...\n",
            "Selecting previously unselected package iso-codes.\n",
            "Preparing to unpack .../11-iso-codes_3.75-1_all.deb ...\n",
            "Unpacking iso-codes (3.75-1) ...\n",
            "Selecting previously unselected package libdbus-glib-1-2:amd64.\n",
            "Preparing to unpack .../12-libdbus-glib-1-2_0.108-2_amd64.deb ...\n",
            "Unpacking libdbus-glib-1-2:amd64 (0.108-2) ...\n",
            "Selecting previously unselected package python-apt-common.\n",
            "Preparing to unpack .../13-python-apt-common_1.4.0~beta3build2_all.deb ...\n",
            "Unpacking python-apt-common (1.4.0~beta3build2) ...\n",
            "Selecting previously unselected package python3-apt.\n",
            "Preparing to unpack .../14-python3-apt_1.4.0~beta3build2_amd64.deb ...\n",
            "Unpacking python3-apt (1.4.0~beta3build2) ...\n",
            "Selecting previously unselected package python3-dbus.\n",
            "Preparing to unpack .../15-python3-dbus_1.2.4-1build3_amd64.deb ...\n",
            "Unpacking python3-dbus (1.2.4-1build3) ...\n",
            "Selecting previously unselected package python3-gi.\n",
            "Preparing to unpack .../16-python3-gi_3.24.1-2build1_amd64.deb ...\n",
            "Unpacking python3-gi (3.24.1-2build1) ...\n",
            "Selecting previously unselected package module-init-tools.\n",
            "Preparing to unpack .../17-module-init-tools_24-1ubuntu2_all.deb ...\n",
            "Unpacking module-init-tools (24-1ubuntu2) ...\n",
            "Selecting previously unselected package python-apt.\n",
            "Preparing to unpack .../18-python-apt_1.4.0~beta3build2_amd64.deb ...\n",
            "Unpacking python-apt (1.4.0~beta3build2) ...\n",
            "Selecting previously unselected package python-pycurl.\n",
            "Preparing to unpack .../19-python-pycurl_7.43.0-2build2_amd64.deb ...\n",
            "Unpacking python-pycurl (7.43.0-2build2) ...\n",
            "Selecting previously unselected package python-software-properties.\n",
            "Preparing to unpack .../20-python-software-properties_0.96.24.17_all.deb ...\n",
            "Unpacking python-software-properties (0.96.24.17) ...\n",
            "Selecting previously unselected package python3-software-properties.\n",
            "Preparing to unpack .../21-python3-software-properties_0.96.24.17_all.deb ...\n",
            "Unpacking python3-software-properties (0.96.24.17) ...\n",
            "Selecting previously unselected package software-properties-common.\n",
            "Preparing to unpack .../22-software-properties-common_0.96.24.17_all.deb ...\n",
            "Unpacking software-properties-common (0.96.24.17) ...\n",
            "Selecting previously unselected package unattended-upgrades.\n",
            "Preparing to unpack .../23-unattended-upgrades_0.98ubuntu1.1_all.deb ...\n",
            "Unpacking unattended-upgrades (0.98ubuntu1.1) ...\n",
            "Setting up python-apt-common (1.4.0~beta3build2) ...\n",
            "Setting up python3-apt (1.4.0~beta3build2) ...\n",
            "Setting up iso-codes (3.75-1) ...\n",
            "Setting up distro-info-data (0.36ubuntu0.2) ...\n",
            "Setting up python-pycurl (7.43.0-2build2) ...\n",
            "Setting up lsb-release (9.20160110ubuntu5) ...\n",
            "Setting up libgirepository-1.0-1:amd64 (1.54.1-1) ...\n",
            "Setting up libkmod2:amd64 (24-1ubuntu2) ...\n",
            "Setting up gir1.2-glib-2.0:amd64 (1.54.1-1) ...\n",
            "Processing triggers for libc-bin (2.26-0ubuntu2.1) ...\n",
            "Setting up libapparmor1:amd64 (2.11.0-2ubuntu17.1) ...\n",
            "Setting up unattended-upgrades (0.98ubuntu1.1) ...\n",
            "\n",
            "Creating config file /etc/apt/apt.conf.d/20auto-upgrades with new version\n",
            "\n",
            "Creating config file /etc/apt/apt.conf.d/50unattended-upgrades with new version\n",
            "invoke-rc.d: could not determine current runlevel\n",
            "invoke-rc.d: policy-rc.d denied execution of start.\n",
            "Setting up dirmngr (2.1.15-1ubuntu8.1) ...\n",
            "Setting up cron (3.0pl1-128ubuntu5) ...\n",
            "Adding group `crontab' (GID 102) ...\n",
            "Done.\n",
            "update-rc.d: warning: start and stop actions are no longer supported; falling back to defaults\n",
            "update-rc.d: warning: stop runlevel arguments (1) do not match cron Default-Stop values (none)\n",
            "invoke-rc.d: could not determine current runlevel\n",
            "invoke-rc.d: policy-rc.d denied execution of start.\n",
            "Setting up libdbus-1-3:amd64 (1.10.22-1ubuntu1) ...\n",
            "Setting up kmod (24-1ubuntu2) ...\n",
            "Setting up libdbus-glib-1-2:amd64 (0.108-2) ...\n",
            "Setting up python3-gi (3.24.1-2build1) ...\n",
            "Setting up module-init-tools (24-1ubuntu2) ...\n",
            "Setting up python3-software-properties (0.96.24.17) ...\n",
            "Setting up dbus (1.10.22-1ubuntu1) ...\n",
            "Setting up python-apt (1.4.0~beta3build2) ...\n",
            "Setting up python3-dbus (1.2.4-1build3) ...\n",
            "Setting up python-software-properties (0.96.24.17) ...\n",
            "Setting up software-properties-common (0.96.24.17) ...\n",
            "Processing triggers for libc-bin (2.26-0ubuntu2.1) ...\n",
            "Processing triggers for dbus (1.10.22-1ubuntu1) ...\n",
            "gpg: keybox '/tmp/tmp0czdglkh/pubring.gpg' created\n",
            "gpg: /tmp/tmp0czdglkh/trustdb.gpg: trustdb created\n",
            "gpg: key AD5F235DF639B041: public key \"Launchpad PPA for Alessandro Strada\" imported\n",
            "gpg: Total number processed: 1\n",
            "gpg:               imported: 1\n",
            "Warning: apt-key output should not be parsed (stdout is not a terminal)\n",
            "Selecting previously unselected package libfuse2:amd64.\n",
            "(Reading database ... 19816 files and directories currently installed.)\n",
            "Preparing to unpack .../libfuse2_2.9.7-1ubuntu1_amd64.deb ...\n",
            "Unpacking libfuse2:amd64 (2.9.7-1ubuntu1) ...\n",
            "Selecting previously unselected package fuse.\n",
            "Preparing to unpack .../fuse_2.9.7-1ubuntu1_amd64.deb ...\n",
            "Unpacking fuse (2.9.7-1ubuntu1) ...\n",
            "Selecting previously unselected package google-drive-ocamlfuse.\n",
            "Preparing to unpack .../google-drive-ocamlfuse_0.6.21-0ubuntu2_amd64.deb ...\n",
            "Unpacking google-drive-ocamlfuse (0.6.21-0ubuntu2) ...\n",
            "Setting up libfuse2:amd64 (2.9.7-1ubuntu1) ...\n",
            "Processing triggers for libc-bin (2.26-0ubuntu2.1) ...\n",
            "Setting up fuse (2.9.7-1ubuntu1) ...\n",
            "Setting up google-drive-ocamlfuse (0.6.21-0ubuntu2) ...\n",
            "Please, open the following URL in a web browser: https://accounts.google.com/o/oauth2/auth?client_id=32555940559.apps.googleusercontent.com&redirect_uri=urn%3Aietf%3Awg%3Aoauth%3A2.0%3Aoob&scope=https%3A%2F%2Fwww.googleapis.com%2Fauth%2Fdrive&response_type=code&access_type=offline&approval_prompt=force\n",
            "··········\n",
            "Please, open the following URL in a web browser: https://accounts.google.com/o/oauth2/auth?client_id=32555940559.apps.googleusercontent.com&redirect_uri=urn%3Aietf%3Awg%3Aoauth%3A2.0%3Aoob&scope=https%3A%2F%2Fwww.googleapis.com%2Fauth%2Fdrive&response_type=code&access_type=offline&approval_prompt=force\n",
            "Please enter the verification code: Access token retrieved correctly.\n"
          ],
          "name": "stdout"
        }
      ]
    },
    {
      "metadata": {
        "id": "rRJamFSDjkaJ",
        "colab_type": "code",
        "colab": {
          "base_uri": "https://localhost:8080/",
          "height": 34
        },
        "outputId": "aa5ee9d1-fc84-4e5c-ec9f-38a2f618f440"
      },
      "cell_type": "code",
      "source": [
        "import numpy as np\n",
        "import pandas as pd\n",
        "from PIL import Image\n",
        "\n",
        "import matplotlib.pyplot as plt\n",
        "%matplotlib inline\n",
        "\n",
        "from keras.layers import *\n",
        "from keras.models import Model,Sequential\n",
        "from keras.utils import to_categorical\n",
        "from keras.optimizers import SGD, rmsprop"
      ],
      "execution_count": 2,
      "outputs": [
        {
          "output_type": "stream",
          "text": [
            "Using TensorFlow backend.\n"
          ],
          "name": "stderr"
        }
      ]
    },
    {
      "metadata": {
        "id": "DSLCCU1YlPWx",
        "colab_type": "code",
        "colab": {
          "base_uri": "https://localhost:8080/",
          "height": 68
        },
        "outputId": "afa23477-c765-4762-e3ce-ae42d7e59c7a"
      },
      "cell_type": "code",
      "source": [
        "!ls drive/Redes\\ neuronales/Tarea\\ 3"
      ],
      "execution_count": 2,
      "outputs": [
        {
          "output_type": "stream",
          "text": [
            "frames_train\t  labels_train.csv  mysubmission.csv  sub2.csv\r\n",
            "images_test.npy   m3.h5\t\t    Pregunta 2.ipynb  sub3.csv\r\n",
            "images_train.npy  m4.h5\t\t    Pregunta 3.ipynb  submission.csv\r\n"
          ],
          "name": "stdout"
        }
      ]
    },
    {
      "metadata": {
        "id": "txUJHx-JbO6G",
        "colab_type": "text"
      },
      "cell_type": "markdown",
      "source": [
        "## Forma de enfrentar el problema"
      ]
    },
    {
      "metadata": {
        "id": "nMINVsXNbwXe",
        "colab_type": "text"
      },
      "cell_type": "markdown",
      "source": [
        "### Cómo tomar los datos?\n",
        "\n",
        "Primero los datos de entrenamiento del conjunto de entrada (los X), se pre-procesan  de la misma forma que se hizo con el dataset MNIST, es decir, se castean a float32 y se normalizan. Además se el conjunto de datos entregados para entrenamiento se separá en dos, uno efectivamente de entrenamiento y otro de validación para ir evaluando los modelos entrenados. \n",
        "\n",
        "Para los datos de entrenamiento del conjunto de salida (los Y) se probaron dos formas:\n",
        "\n",
        "1) En un principio se intento hacer un modelo de clasificación, como se hizo en CIFAR, en donde habían tantas clases como opciones. Tomando la cantidad de máxima de personas en un frame se tomó, ese número como cantidad de clases. (No dió buenos resultados)\n",
        "\n",
        "2) Luego se tomó la opción de hacerlo como MNIST, en que se entrega el número entero de a cantidad de personas, como una regresión. (Si dió resultados.)\n",
        "\n",
        "Y finalmente, se tienen los datos de test, que es solo un conjunto de entrada (X). Estos datos se pre-procesan igual que los datos de entrenamiento del conjunto de entrada.\n",
        "\n",
        "### Qué arquitectura tomar?\n",
        "\n",
        "En un comienzo tuvimos problemas con los datos, pues colapsaban la RAM de nuestros computadores, y en colab también se caía. Por lo que la primera red que probamos, es la más simple que se nos ocurrió, que a su vez intentará no sobrecargar tanto el procesamiento y tuviese varias cosas de las discutidas en clases, esta red la llamamos *model*.  También en esta red se probó la forma 1 de tomar los datos de salida y nos dimos cuenta que los resultados son malos.\n",
        "\n",
        "Una vez que pudimos afinar los datos para entrenar las redes, empezamos a afinar la arquitectura según lo aprendido en clases:\n",
        "\n",
        "* *model2*: De partida cambiamos la forma de los datos de salida, siendo de la forma 2 anteriormente explicada. Luego, la arquitectura de la red fue cambiada por dos capas convolucionales seguidas de una de max pooling, como se había conversado en la tarea antrerior (Tarea 2) que era más conveniente usar.\n",
        "\n",
        "* *model3*: Se continúa con la forma 2 para los datos de salida, pues se evidencia mejores resultados. Además se sigue tomando como base la arquitectura de *model2* y se agrega la regularización dropout luego de cada par de capas de convolución, que entrega buenos resultados según lo investigado en internet y por lo visto en tareas.\n",
        "\n",
        "* *model4*: Toma como base *model3* y agrega batch normalization entre cada par de capas de convolución y capa de dropout, y entre las últimas capas densas.\n",
        "\n",
        "Así, se va iterando sobre los resultados de los modelos anteriores.\n"
      ]
    },
    {
      "metadata": {
        "id": "jxTVfBo0jkaW",
        "colab_type": "text"
      },
      "cell_type": "markdown",
      "source": [
        "## Datos"
      ]
    },
    {
      "metadata": {
        "id": "oit74BJIjkaY",
        "colab_type": "code",
        "colab": {
          "base_uri": "https://localhost:8080/",
          "height": 850
        },
        "outputId": "fac0909a-f286-445a-d28f-e1d6ed396a52"
      },
      "cell_type": "code",
      "source": [
        "img = Image.open(\"drive/Redes neuronales/Tarea 3/frames_train/seq_000401.jpg\")\n",
        "np.asarray(img)"
      ],
      "execution_count": 5,
      "outputs": [
        {
          "output_type": "execute_result",
          "data": {
            "text/plain": [
              "array([[[  0,   0,   0],\n",
              "        [  0,   0,   0],\n",
              "        [  0,   0,   0],\n",
              "        ...,\n",
              "        [  0,   0,   0],\n",
              "        [  0,   0,   0],\n",
              "        [  0,   0,   0]],\n",
              "\n",
              "       [[  0,   0,   0],\n",
              "        [  0,   0,   0],\n",
              "        [  0,   0,   0],\n",
              "        ...,\n",
              "        [  0,   0,   0],\n",
              "        [  0,   0,   0],\n",
              "        [  0,   0,   0]],\n",
              "\n",
              "       [[  0,   0,   0],\n",
              "        [  0,   0,   0],\n",
              "        [  0,   0,   0],\n",
              "        ...,\n",
              "        [  0,   0,   0],\n",
              "        [  0,   0,   0],\n",
              "        [  0,   0,   0]],\n",
              "\n",
              "       ...,\n",
              "\n",
              "       [[150, 118,  95],\n",
              "        [150, 118,  95],\n",
              "        [150, 118,  95],\n",
              "        ...,\n",
              "        [203, 158, 117],\n",
              "        [206, 161, 119],\n",
              "        [206, 162, 117]],\n",
              "\n",
              "       [[151, 119,  96],\n",
              "        [151, 119,  96],\n",
              "        [151, 119,  96],\n",
              "        ...,\n",
              "        [185, 140,  99],\n",
              "        [189, 144, 102],\n",
              "        [191, 147, 102]],\n",
              "\n",
              "       [[149, 117,  94],\n",
              "        [149, 117,  94],\n",
              "        [149, 117,  94],\n",
              "        ...,\n",
              "        [170, 125,  84],\n",
              "        [170, 125,  83],\n",
              "        [170, 126,  81]]], dtype=uint8)"
            ]
          },
          "metadata": {
            "tags": []
          },
          "execution_count": 5
        }
      ]
    },
    {
      "metadata": {
        "id": "pz7hReHEjkah",
        "colab_type": "code",
        "colab": {
          "base_uri": "https://localhost:8080/",
          "height": 269
        },
        "outputId": "c9b51443-cc85-465b-dd1b-92dec8d1c8ab"
      },
      "cell_type": "code",
      "source": [
        "plt.imshow(img)\n",
        "plt.show()"
      ],
      "execution_count": 7,
      "outputs": [
        {
          "output_type": "display_data",
          "data": {
            "image/png": "[encoded data removed]",
            "text/plain": [
              "<matplotlib.figure.Figure at 0x7f6a8ade7f28>"
            ]
          },
          "metadata": {
            "tags": []
          }
        }
      ]
    },
    {
      "metadata": {
        "id": "TE20ala1jkaq",
        "colab_type": "code",
        "colab": {}
      },
      "cell_type": "code",
      "source": [
        "X_train = np.load('drive/Redes neuronales/Tarea 3/images_train.npy')"
      ],
      "execution_count": 0,
      "outputs": []
    },
    {
      "metadata": {
        "id": "MqrgjFvxz_1h",
        "colab_type": "code",
        "colab": {}
      },
      "cell_type": "code",
      "source": [
        "\n",
        "test = np.load('drive/Redes neuronales/Tarea 3/images_test.npy')"
      ],
      "execution_count": 0,
      "outputs": []
    },
    {
      "metadata": {
        "id": "d2u_R_NMpTeR",
        "colab_type": "code",
        "colab": {
          "base_uri": "https://localhost:8080/",
          "height": 51
        },
        "outputId": "9726e41b-d29c-46bf-b9b6-1470fb430c03"
      },
      "cell_type": "code",
      "source": [
        "!ls drive/Redes\\ neuronales/Tarea\\ 3/"
      ],
      "execution_count": 9,
      "outputs": [
        {
          "output_type": "stream",
          "text": [
            "frames_train\t images_train.npy  Pregunta 2.ipynb\r\n",
            "images_test.npy  labels_train.csv  Pregunta 3.ipynb\r\n"
          ],
          "name": "stdout"
        }
      ]
    },
    {
      "metadata": {
        "id": "VELIYvEyjkav",
        "colab_type": "code",
        "colab": {}
      },
      "cell_type": "code",
      "source": [
        "df_y = pd.read_csv('drive/Redes neuronales/Tarea 3/labels_train.csv')"
      ],
      "execution_count": 0,
      "outputs": []
    },
    {
      "metadata": {
        "id": "fuV1Tflgjka2",
        "colab_type": "code",
        "colab": {
          "base_uri": "https://localhost:8080/",
          "height": 297
        },
        "outputId": "035a4e5b-7487-4ad6-b6be-72d529cd0daa"
      },
      "cell_type": "code",
      "source": [
        "df_y.describe()"
      ],
      "execution_count": 5,
      "outputs": [
        {
          "output_type": "execute_result",
          "data": {
            "text/html": [
              "<div>\n",
              "<style scoped>\n",
              "    .dataframe tbody tr th:only-of-type {\n",
              "        vertical-align: middle;\n",
              "    }\n",
              "\n",
              "    .dataframe tbody tr th {\n",
              "        vertical-align: top;\n",
              "    }\n",
              "\n",
              "    .dataframe thead th {\n",
              "        text-align: right;\n",
              "    }\n",
              "</style>\n",
              "<table border=\"1\" class=\"dataframe\">\n",
              "  <thead>\n",
              "    <tr style=\"text-align: right;\">\n",
              "      <th></th>\n",
              "      <th>id</th>\n",
              "      <th>count</th>\n",
              "    </tr>\n",
              "  </thead>\n",
              "  <tbody>\n",
              "    <tr>\n",
              "      <th>count</th>\n",
              "      <td>1600.00000</td>\n",
              "      <td>1600.000000</td>\n",
              "    </tr>\n",
              "    <tr>\n",
              "      <th>mean</th>\n",
              "      <td>1200.50000</td>\n",
              "      <td>31.070625</td>\n",
              "    </tr>\n",
              "    <tr>\n",
              "      <th>std</th>\n",
              "      <td>462.02453</td>\n",
              "      <td>6.992134</td>\n",
              "    </tr>\n",
              "    <tr>\n",
              "      <th>min</th>\n",
              "      <td>401.00000</td>\n",
              "      <td>13.000000</td>\n",
              "    </tr>\n",
              "    <tr>\n",
              "      <th>25%</th>\n",
              "      <td>800.75000</td>\n",
              "      <td>26.000000</td>\n",
              "    </tr>\n",
              "    <tr>\n",
              "      <th>50%</th>\n",
              "      <td>1200.50000</td>\n",
              "      <td>30.000000</td>\n",
              "    </tr>\n",
              "    <tr>\n",
              "      <th>75%</th>\n",
              "      <td>1600.25000</td>\n",
              "      <td>35.000000</td>\n",
              "    </tr>\n",
              "    <tr>\n",
              "      <th>max</th>\n",
              "      <td>2000.00000</td>\n",
              "      <td>50.000000</td>\n",
              "    </tr>\n",
              "  </tbody>\n",
              "</table>\n",
              "</div>"
            ],
            "text/plain": [
              "               id        count\n",
              "count  1600.00000  1600.000000\n",
              "mean   1200.50000    31.070625\n",
              "std     462.02453     6.992134\n",
              "min     401.00000    13.000000\n",
              "25%     800.75000    26.000000\n",
              "50%    1200.50000    30.000000\n",
              "75%    1600.25000    35.000000\n",
              "max    2000.00000    50.000000"
            ]
          },
          "metadata": {
            "tags": []
          },
          "execution_count": 5
        }
      ]
    },
    {
      "metadata": {
        "id": "JAmCVbI5jka9",
        "colab_type": "code",
        "colab": {
          "base_uri": "https://localhost:8080/",
          "height": 204
        },
        "outputId": "74f89f8e-1f91-499d-bbde-8fbf88b5a5d3"
      },
      "cell_type": "code",
      "source": [
        "df_y.head()"
      ],
      "execution_count": 10,
      "outputs": [
        {
          "output_type": "execute_result",
          "data": {
            "text/html": [
              "<div>\n",
              "<style scoped>\n",
              "    .dataframe tbody tr th:only-of-type {\n",
              "        vertical-align: middle;\n",
              "    }\n",
              "\n",
              "    .dataframe tbody tr th {\n",
              "        vertical-align: top;\n",
              "    }\n",
              "\n",
              "    .dataframe thead th {\n",
              "        text-align: right;\n",
              "    }\n",
              "</style>\n",
              "<table border=\"1\" class=\"dataframe\">\n",
              "  <thead>\n",
              "    <tr style=\"text-align: right;\">\n",
              "      <th></th>\n",
              "      <th>id</th>\n",
              "      <th>count</th>\n",
              "    </tr>\n",
              "  </thead>\n",
              "  <tbody>\n",
              "    <tr>\n",
              "      <th>0</th>\n",
              "      <td>401</td>\n",
              "      <td>29</td>\n",
              "    </tr>\n",
              "    <tr>\n",
              "      <th>1</th>\n",
              "      <td>402</td>\n",
              "      <td>30</td>\n",
              "    </tr>\n",
              "    <tr>\n",
              "      <th>2</th>\n",
              "      <td>403</td>\n",
              "      <td>31</td>\n",
              "    </tr>\n",
              "    <tr>\n",
              "      <th>3</th>\n",
              "      <td>404</td>\n",
              "      <td>26</td>\n",
              "    </tr>\n",
              "    <tr>\n",
              "      <th>4</th>\n",
              "      <td>405</td>\n",
              "      <td>26</td>\n",
              "    </tr>\n",
              "  </tbody>\n",
              "</table>\n",
              "</div>"
            ],
            "text/plain": [
              "    id  count\n",
              "0  401     29\n",
              "1  402     30\n",
              "2  403     31\n",
              "3  404     26\n",
              "4  405     26"
            ]
          },
          "metadata": {
            "tags": []
          },
          "execution_count": 10
        }
      ]
    },
    {
      "metadata": {
        "id": "cFRUI-VnjkbG",
        "colab_type": "code",
        "colab": {
          "base_uri": "https://localhost:8080/",
          "height": 51
        },
        "outputId": "c7321586-7e06-4d25-9c9c-f6b4b48208d0"
      },
      "cell_type": "code",
      "source": [
        "print(train.shape)\n",
        "print(test.shape)"
      ],
      "execution_count": 11,
      "outputs": [
        {
          "output_type": "stream",
          "text": [
            "(1600, 480, 640, 3)\n",
            "(400, 480, 640, 3)\n"
          ],
          "name": "stdout"
        }
      ]
    },
    {
      "metadata": {
        "id": "qlJKBD5ljkbO",
        "colab_type": "code",
        "colab": {}
      },
      "cell_type": "code",
      "source": [
        "idx_test = np.random.choice(np.arange(len(X_train)), 400, replace=False)\n",
        "mask_test = np.zeros(len(X_train),dtype=bool) \n",
        "mask_test[idx_test] = True \n",
        "\n",
        "#n_train = 800\n",
        "#ny_train = \n",
        "\n",
        "#X_train = train[~mask_test][:n_train].astype('float32')\n",
        "Y_train = df_y['count'].values[~mask_test]#[:n_train]\n",
        "#X_val = train[mask_test].astype('float32')\n",
        "Y_val = df_y['count'].values[mask_test]\n",
        "\n",
        "\n",
        "X_train, X_val = X_train[~mask_test].astype('float32'), X_train[mask_test].astype('float32')"
      ],
      "execution_count": 0,
      "outputs": []
    },
    {
      "metadata": {
        "id": "-wIizdC21Upk",
        "colab_type": "code",
        "colab": {}
      },
      "cell_type": "code",
      "source": [
        "X_train /= 255.0\n",
        "#Y_train = to_categorical(Y_train, num_classes=51)"
      ],
      "execution_count": 0,
      "outputs": []
    },
    {
      "metadata": {
        "id": "6GP0GBoh0V_-",
        "colab_type": "code",
        "colab": {}
      },
      "cell_type": "code",
      "source": [
        "#norm\n",
        "X_val /= 255.0\n",
        "#Y_val = to_categorical(Y_val, num_classes=51)"
      ],
      "execution_count": 0,
      "outputs": []
    },
    {
      "metadata": {
        "id": "Xug3gbU0jkbT",
        "colab_type": "code",
        "colab": {
          "base_uri": "https://localhost:8080/",
          "height": 85
        },
        "outputId": "324892fe-817c-468a-d2d5-108644a3003a"
      },
      "cell_type": "code",
      "source": [
        "print(X_train.shape)\n",
        "print(Y_train.shape)\n",
        "print(X_val.shape)\n",
        "print(Y_val.shape)"
      ],
      "execution_count": 8,
      "outputs": [
        {
          "output_type": "stream",
          "text": [
            "(1200, 480, 640, 3)\n",
            "(1200,)\n",
            "(400, 480, 640, 3)\n",
            "(400,)\n"
          ],
          "name": "stdout"
        }
      ]
    },
    {
      "metadata": {
        "id": "M41GRBBvevuq",
        "colab_type": "code",
        "colab": {}
      },
      "cell_type": "code",
      "source": [
        "\n",
        "print(X_test.shape)"
      ],
      "execution_count": 0,
      "outputs": []
    },
    {
      "metadata": {
        "id": "aBopE0jyjkbb",
        "colab_type": "code",
        "colab": {
          "base_uri": "https://localhost:8080/",
          "height": 136
        },
        "outputId": "68338abb-6add-4085-f466-060232167903"
      },
      "cell_type": "code",
      "source": [
        "train[0][0]"
      ],
      "execution_count": 14,
      "outputs": [
        {
          "output_type": "execute_result",
          "data": {
            "text/plain": [
              "array([[0, 0, 0],\n",
              "       [0, 0, 0],\n",
              "       [0, 0, 0],\n",
              "       ...,\n",
              "       [0, 0, 0],\n",
              "       [0, 0, 0],\n",
              "       [0, 0, 0]], dtype=uint8)"
            ]
          },
          "metadata": {
            "tags": []
          },
          "execution_count": 14
        }
      ]
    },
    {
      "metadata": {
        "id": "Dx8jtUt2jkbp",
        "colab_type": "text"
      },
      "cell_type": "markdown",
      "source": [
        "## Arquitectura"
      ]
    },
    {
      "metadata": {
        "id": "iPlRidjnjkbr",
        "colab_type": "code",
        "colab": {}
      },
      "cell_type": "code",
      "source": [
        "model = Sequential()\n",
        "model.add(Conv2D(32,(3,3),padding='same',input_shape=X_train.shape[1:],kernel_regularizer=weight,activation='sigmoid'))\n",
        "model.add(BatchNormalization())\n",
        "model.add(MaxPooling2D(2,2))\n",
        "\n",
        "model.add(Conv2D(64,(3,3),padding='same'activation='sigmoid')) \n",
        "model.add(BatchNormalization())\n",
        "model.add(MaxPooling2D(2,2))  \n",
        "\n",
        "model.add(Dense(51,activation='softmax'))\n",
        "\n",
        "model.compile( optimizer='adam', loss='mse') #mse\n",
        "model.fit(X_train, y_train,batch_size=16,epochs=150,validation_data=(X_test, y_test),verbose=1)"
      ],
      "execution_count": 0,
      "outputs": []
    },
    {
      "metadata": {
        "id": "5qPx56rtlfy7",
        "colab_type": "text"
      },
      "cell_type": "markdown",
      "source": [
        "model malos resultados, muy malos"
      ]
    },
    {
      "metadata": {
        "id": "q3VIDUvqjkbx",
        "colab_type": "code",
        "colab": {
          "base_uri": "https://localhost:8080/",
          "height": 476
        },
        "outputId": "18b7d2d2-ee13-47d0-b842-c7c3c8050d3f"
      },
      "cell_type": "code",
      "source": [
        "model2 = Sequential()\n",
        "model2.add(Conv2D(32, (3, 3), padding='same',input_shape=X_train.shape[1:],activation='relu'))\n",
        "model2.add(Conv2D(32, (3, 3),padding='same',activation='relu'))\n",
        "model2.add(MaxPooling2D(pool_size=(2, 2)))\n",
        "           \n",
        "model2.add(Conv2D(64, (3, 3),padding='same',activation='relu'))\n",
        "model2.add(Conv2D(64, (3, 3),padding='same',activation='relu'))\n",
        "model2.add(MaxPooling2D(pool_size=(2, 2)))\n",
        "\n",
        "model2.add(Flatten())\n",
        "model2.add(Dense(1024,activation='relu'))\n",
        "model2.add(Dropout(0.5))\n",
        "model2.add(Dense(1,activation='linear'))\n",
        "model2.summary()\n"
      ],
      "execution_count": 28,
      "outputs": [
        {
          "output_type": "stream",
          "text": [
            "_________________________________________________________________\n",
            "Layer (type)                 Output Shape              Param #   \n",
            "=================================================================\n",
            "conv2d_13 (Conv2D)           (None, 480, 640, 32)      896       \n",
            "_________________________________________________________________\n",
            "conv2d_14 (Conv2D)           (None, 480, 640, 32)      9248      \n",
            "_________________________________________________________________\n",
            "max_pooling2d_7 (MaxPooling2 (None, 240, 320, 32)      0         \n",
            "_________________________________________________________________\n",
            "conv2d_15 (Conv2D)           (None, 240, 320, 64)      18496     \n",
            "_________________________________________________________________\n",
            "conv2d_16 (Conv2D)           (None, 240, 320, 64)      36928     \n",
            "_________________________________________________________________\n",
            "max_pooling2d_8 (MaxPooling2 (None, 120, 160, 64)      0         \n",
            "_________________________________________________________________\n",
            "flatten_4 (Flatten)          (None, 1228800)           0         \n",
            "_________________________________________________________________\n",
            "dense_7 (Dense)              (None, 1024)              1258292224\n",
            "_________________________________________________________________\n",
            "dropout_7 (Dropout)          (None, 1024)              0         \n",
            "_________________________________________________________________\n",
            "dense_8 (Dense)              (None, 1)                 1025      \n",
            "=================================================================\n",
            "Total params: 1,258,358,817\n",
            "Trainable params: 1,258,358,817\n",
            "Non-trainable params: 0\n",
            "_________________________________________________________________\n"
          ],
          "name": "stdout"
        }
      ]
    },
    {
      "metadata": {
        "id": "OJAJdNINjkb5",
        "colab_type": "code",
        "colab": {
          "base_uri": "https://localhost:8080/",
          "height": 51
        },
        "outputId": "9513ea06-c175-499d-f3d0-2b525cc76bef"
      },
      "cell_type": "code",
      "source": [
        "#train it\n",
        "#optimizer_ = SGD(lr=0.01,momentum=0.9)\n",
        "model2.compile(loss='mse', optimizer=\"adam\", metrics=['accuracy'])\n",
        "model2.fit(X_train, Y_train, batch_size=128,epochs=15,verbose=1, validation_data=(X_val,Y_val))"
      ],
      "execution_count": 0,
      "outputs": [
        {
          "output_type": "stream",
          "text": [
            "Train on 1300 samples, validate on 300 samples\n",
            "Epoch 1/15\n"
          ],
          "name": "stdout"
        }
      ]
    },
    {
      "metadata": {
        "id": "LLtnWd0QtEkm",
        "colab_type": "text"
      },
      "cell_type": "markdown",
      "source": [
        "model2 ño"
      ]
    },
    {
      "metadata": {
        "id": "dERIn6l1oewx",
        "colab_type": "code",
        "colab": {
          "base_uri": "https://localhost:8080/",
          "height": 510
        },
        "outputId": "57194790-cf67-4954-fd55-5fcf5495e2c5"
      },
      "cell_type": "code",
      "source": [
        "opt = rmsprop()\n",
        "batch_size = 10\n",
        "epochs = 25\n",
        "\n",
        "model3 = Sequential()\n",
        "model3.add(Conv2D(64, (5, 5), padding='same', input_shape=X_train.shape[1:],activation='relu'))\n",
        "model3.add(Conv2D(64, (3, 3), padding='same',activation='relu'))\n",
        "model3.add(MaxPooling2D(pool_size=(2, 2)))\n",
        "model3.add(Dropout(0.25))\n",
        "\n",
        "model3.add(Conv2D(32, (3, 3), padding='same',activation='relu'))\n",
        "model3.add(Conv2D(32, (3, 3), padding='same',activation='relu'))\n",
        "model3.add(MaxPooling2D(pool_size=(2, 2)))\n",
        "model3.add(Dropout(0.25))\n",
        "\n",
        "model3.add(Flatten())\n",
        "#model3.add(Dense(512,activation='relu'))\n",
        "model3.add(Dense(10,activation='relu'))\n",
        "model3.add(Dense(1,activation='linear'))\n",
        "\n",
        "model3.compile(optimizer=opt,loss=\"mse\")\n",
        "model3.summary()"
      ],
      "execution_count": 10,
      "outputs": [
        {
          "output_type": "stream",
          "text": [
            "_________________________________________________________________\n",
            "Layer (type)                 Output Shape              Param #   \n",
            "=================================================================\n",
            "conv2d_9 (Conv2D)            (None, 480, 640, 64)      4864      \n",
            "_________________________________________________________________\n",
            "conv2d_10 (Conv2D)           (None, 480, 640, 64)      36928     \n",
            "_________________________________________________________________\n",
            "max_pooling2d_5 (MaxPooling2 (None, 240, 320, 64)      0         \n",
            "_________________________________________________________________\n",
            "dropout_5 (Dropout)          (None, 240, 320, 64)      0         \n",
            "_________________________________________________________________\n",
            "conv2d_11 (Conv2D)           (None, 240, 320, 32)      18464     \n",
            "_________________________________________________________________\n",
            "conv2d_12 (Conv2D)           (None, 240, 320, 32)      9248      \n",
            "_________________________________________________________________\n",
            "max_pooling2d_6 (MaxPooling2 (None, 120, 160, 32)      0         \n",
            "_________________________________________________________________\n",
            "dropout_6 (Dropout)          (None, 120, 160, 32)      0         \n",
            "_________________________________________________________________\n",
            "flatten_3 (Flatten)          (None, 614400)            0         \n",
            "_________________________________________________________________\n",
            "dense_5 (Dense)              (None, 10)                6144010   \n",
            "_________________________________________________________________\n",
            "dense_6 (Dense)              (None, 1)                 11        \n",
            "=================================================================\n",
            "Total params: 6,213,525\n",
            "Trainable params: 6,213,525\n",
            "Non-trainable params: 0\n",
            "_________________________________________________________________\n"
          ],
          "name": "stdout"
        }
      ]
    },
    {
      "metadata": {
        "id": "9PHHjtONhXlq",
        "colab_type": "code",
        "colab": {
          "base_uri": "https://localhost:8080/",
          "height": 884
        },
        "outputId": "dbc46c31-f9c6-4a3e-952b-1ccb73dbda0a"
      },
      "cell_type": "code",
      "source": [
        "hist_m3 = model3.fit(X_train, Y_train,epochs=epochs,batch_size=batch_size, validation_data=(X_val, Y_val), shuffle=True)"
      ],
      "execution_count": 12,
      "outputs": [
        {
          "output_type": "stream",
          "text": [
            "Train on 800 samples, validate on 400 samples\n",
            "Epoch 1/25\n",
            "800/800 [==============================] - 94s 118ms/step - loss: 422.1041 - val_loss: 427.2658\n",
            "Epoch 2/25\n",
            "800/800 [==============================] - 88s 110ms/step - loss: 132.4497 - val_loss: 48.0108\n",
            "Epoch 3/25\n",
            "800/800 [==============================] - 88s 110ms/step - loss: 88.8760 - val_loss: 59.4795\n",
            "Epoch 4/25\n",
            "800/800 [==============================] - 88s 110ms/step - loss: 71.4008 - val_loss: 110.4179\n",
            "Epoch 5/25\n",
            "800/800 [==============================] - 88s 110ms/step - loss: 59.4453 - val_loss: 35.2457\n",
            "Epoch 6/25\n",
            "800/800 [==============================] - 88s 110ms/step - loss: 57.4961 - val_loss: 45.7613\n",
            "Epoch 7/25\n",
            "800/800 [==============================] - 88s 110ms/step - loss: 215.3988 - val_loss: 64.8588\n",
            "Epoch 8/25\n",
            "800/800 [==============================] - 88s 110ms/step - loss: 34.1773 - val_loss: 20.4548\n",
            "Epoch 9/25\n",
            "800/800 [==============================] - 88s 111ms/step - loss: 36.0823 - val_loss: 16.6851\n",
            "Epoch 10/25\n",
            "800/800 [==============================] - 88s 110ms/step - loss: 38.9692 - val_loss: 16.7963\n",
            "Epoch 11/25\n",
            "800/800 [==============================] - 88s 110ms/step - loss: 24.8084 - val_loss: 112.8320\n",
            "Epoch 12/25\n",
            "800/800 [==============================] - 88s 110ms/step - loss: 18.9322 - val_loss: 30.5308\n",
            "Epoch 13/25\n",
            "800/800 [==============================] - 88s 110ms/step - loss: 498.4593 - val_loss: 38.9526\n",
            "Epoch 14/25\n",
            "800/800 [==============================] - 88s 110ms/step - loss: 8.2235 - val_loss: 14.0947\n",
            "Epoch 15/25\n",
            "800/800 [==============================] - 88s 110ms/step - loss: 45.2137 - val_loss: 19.6721\n",
            "Epoch 16/25\n",
            "800/800 [==============================] - 88s 110ms/step - loss: 45.0754 - val_loss: 31.3363\n",
            "Epoch 17/25\n",
            "800/800 [==============================] - 88s 110ms/step - loss: 8.5815 - val_loss: 30.4087\n",
            "Epoch 18/25\n",
            "800/800 [==============================] - 88s 110ms/step - loss: 9.3961 - val_loss: 13.8575\n",
            "Epoch 19/25\n",
            "800/800 [==============================] - 88s 110ms/step - loss: 9.7442 - val_loss: 57.1113\n",
            "Epoch 20/25\n",
            "800/800 [==============================] - 88s 110ms/step - loss: 8.2795 - val_loss: 21.3974\n",
            "Epoch 21/25\n",
            "800/800 [==============================] - 88s 110ms/step - loss: 22.4936 - val_loss: 15.1618\n",
            "Epoch 22/25\n",
            "800/800 [==============================] - 88s 110ms/step - loss: 7.2100 - val_loss: 13.9122\n",
            "Epoch 23/25\n",
            "800/800 [==============================] - 88s 110ms/step - loss: 8.1124 - val_loss: 13.8591\n",
            "Epoch 24/25\n",
            "800/800 [==============================] - 88s 110ms/step - loss: 6.4879 - val_loss: 26.0920\n",
            "Epoch 25/25\n",
            "800/800 [==============================] - 88s 110ms/step - loss: 5.5044 - val_loss: 18.3483\n"
          ],
          "name": "stdout"
        }
      ]
    },
    {
      "metadata": {
        "id": "S_CA5YgSoCcg",
        "colab_type": "text"
      },
      "cell_type": "markdown",
      "source": [
        "model3 mejorando... parece~~"
      ]
    },
    {
      "metadata": {
        "id": "uUCwvrKcqfZ7",
        "colab_type": "code",
        "colab": {}
      },
      "cell_type": "code",
      "source": [
        "model3.save(\"drive/Redes neuronales/Tarea 3/m3.h5\")"
      ],
      "execution_count": 0,
      "outputs": []
    },
    {
      "metadata": {
        "id": "b61fEQhLo46I",
        "colab_type": "code",
        "colab": {
          "base_uri": "https://localhost:8080/",
          "height": 294
        },
        "outputId": "6b8bb8bb-5b52-4c07-9946-4830d9b7b151"
      },
      "cell_type": "code",
      "source": [
        "plt.plot(range(epochs), hist_m3.history['loss'], 'bo-', label = 'Entrenamiento')\n",
        "plt.plot(range(epochs), hist_m3.history['val_loss'], 'ro-', label = 'Validación')\n",
        "plt.title('Función de pérdida durante el entrenamiento')\n",
        "plt.ylabel('MSE')\n",
        "plt.xlabel('Epochs')\n",
        "plt.legend()\n",
        "plt.show()"
      ],
      "execution_count": 16,
      "outputs": [
        {
          "output_type": "display_data",
          "data": {
            "image/png": "[encoded data removed]",
            "text/plain": [
              "<matplotlib.figure.Figure at 0x7f04eceb8908>"
            ]
          },
          "metadata": {
            "tags": []
          }
        }
      ]
    },
    {
      "metadata": {
        "id": "rkun5ObnpPJG",
        "colab_type": "code",
        "colab": {}
      },
      "cell_type": "code",
      "source": [
        "pred_m3 = model3.predict(X_train[:20]) "
      ],
      "execution_count": 0,
      "outputs": []
    },
    {
      "metadata": {
        "id": "uP4f6ZdRtqIF",
        "colab_type": "code",
        "colab": {
          "base_uri": "https://localhost:8080/",
          "height": 357
        },
        "outputId": "ae5dc44b-952d-4ccd-e19b-4cb3a5c28735"
      },
      "cell_type": "code",
      "source": [
        "pred_m3"
      ],
      "execution_count": 20,
      "outputs": [
        {
          "output_type": "execute_result",
          "data": {
            "text/plain": [
              "array([[27.55176 ],\n",
              "       [28.801653],\n",
              "       [24.559893],\n",
              "       [24.650225],\n",
              "       [25.535933],\n",
              "       [26.349865],\n",
              "       [28.558277],\n",
              "       [34.851006],\n",
              "       [33.81912 ],\n",
              "       [38.339577],\n",
              "       [36.865234],\n",
              "       [39.319733],\n",
              "       [33.08564 ],\n",
              "       [32.679066],\n",
              "       [36.416897],\n",
              "       [34.53402 ],\n",
              "       [39.045116],\n",
              "       [33.376648],\n",
              "       [40.836884],\n",
              "       [36.022575]], dtype=float32)"
            ]
          },
          "metadata": {
            "tags": []
          },
          "execution_count": 20
        }
      ]
    },
    {
      "metadata": {
        "id": "vm-jIxLWtsCg",
        "colab_type": "code",
        "colab": {
          "base_uri": "https://localhost:8080/",
          "height": 51
        },
        "outputId": "455cdf19-b784-458b-f149-55312f6666b3"
      },
      "cell_type": "code",
      "source": [
        "Y_train[:20]"
      ],
      "execution_count": 22,
      "outputs": [
        {
          "output_type": "execute_result",
          "data": {
            "text/plain": [
              "array([29, 31, 26, 26, 28, 27, 31, 37, 37, 41, 40, 42, 36, 37, 38, 37, 40,\n",
              "       37, 41, 37])"
            ]
          },
          "metadata": {
            "tags": []
          },
          "execution_count": 22
        }
      ]
    },
    {
      "metadata": {
        "id": "4tkdmplossg6",
        "colab_type": "code",
        "colab": {}
      },
      "cell_type": "code",
      "source": [
        "test /= 255.0"
      ],
      "execution_count": 0,
      "outputs": []
    },
    {
      "metadata": {
        "id": "zZosJIRHsvGr",
        "colab_type": "code",
        "colab": {}
      },
      "cell_type": "code",
      "source": [
        "y_pred_m3 = model3.predict(test) "
      ],
      "execution_count": 0,
      "outputs": []
    },
    {
      "metadata": {
        "id": "mlttZ9M8u6Na",
        "colab_type": "code",
        "colab": {
          "base_uri": "https://localhost:8080/",
          "height": 6817
        },
        "outputId": "24d99012-2653-408a-ffea-5f9701cb815b"
      },
      "cell_type": "code",
      "source": [
        "y_pred_m3"
      ],
      "execution_count": 29,
      "outputs": [
        {
          "output_type": "execute_result",
          "data": {
            "text/plain": [
              "array([[28.620975],\n",
              "       [33.943134],\n",
              "       [35.804096],\n",
              "       [31.226292],\n",
              "       [36.233475],\n",
              "       [33.861343],\n",
              "       [31.40075 ],\n",
              "       [31.352638],\n",
              "       [24.411125],\n",
              "       [25.030483],\n",
              "       [21.5725  ],\n",
              "       [19.499924],\n",
              "       [21.114452],\n",
              "       [23.490452],\n",
              "       [16.83248 ],\n",
              "       [17.757652],\n",
              "       [16.025177],\n",
              "       [22.793606],\n",
              "       [26.690033],\n",
              "       [25.315105],\n",
              "       [26.822224],\n",
              "       [21.507145],\n",
              "       [24.21297 ],\n",
              "       [22.128227],\n",
              "       [22.038546],\n",
              "       [22.334044],\n",
              "       [23.765635],\n",
              "       [19.743666],\n",
              "       [24.829838],\n",
              "       [22.877352],\n",
              "       [23.662052],\n",
              "       [24.832804],\n",
              "       [21.47552 ],\n",
              "       [19.73273 ],\n",
              "       [17.575193],\n",
              "       [21.549496],\n",
              "       [25.260944],\n",
              "       [22.134514],\n",
              "       [22.635584],\n",
              "       [26.537497],\n",
              "       [25.602686],\n",
              "       [21.19317 ],\n",
              "       [19.208853],\n",
              "       [18.55799 ],\n",
              "       [25.338284],\n",
              "       [24.79763 ],\n",
              "       [21.054749],\n",
              "       [22.538132],\n",
              "       [22.650618],\n",
              "       [25.926855],\n",
              "       [22.18591 ],\n",
              "       [17.404165],\n",
              "       [20.167015],\n",
              "       [21.445543],\n",
              "       [23.003801],\n",
              "       [26.421982],\n",
              "       [24.067337],\n",
              "       [28.244955],\n",
              "       [24.831493],\n",
              "       [17.111507],\n",
              "       [17.963022],\n",
              "       [17.782183],\n",
              "       [22.931765],\n",
              "       [26.964231],\n",
              "       [26.099892],\n",
              "       [23.3218  ],\n",
              "       [28.312141],\n",
              "       [31.850462],\n",
              "       [28.22997 ],\n",
              "       [27.459974],\n",
              "       [28.49371 ],\n",
              "       [32.191254],\n",
              "       [39.548157],\n",
              "       [36.404762],\n",
              "       [40.199776],\n",
              "       [34.49633 ],\n",
              "       [38.602684],\n",
              "       [36.104557],\n",
              "       [36.06313 ],\n",
              "       [37.177696],\n",
              "       [35.466885],\n",
              "       [42.297024],\n",
              "       [39.194675],\n",
              "       [44.07321 ],\n",
              "       [28.29239 ],\n",
              "       [28.328238],\n",
              "       [28.69598 ],\n",
              "       [32.379116],\n",
              "       [29.618568],\n",
              "       [27.22801 ],\n",
              "       [26.245558],\n",
              "       [27.028858],\n",
              "       [25.314766],\n",
              "       [27.04758 ],\n",
              "       [29.158613],\n",
              "       [28.050426],\n",
              "       [27.953384],\n",
              "       [27.760864],\n",
              "       [31.23007 ],\n",
              "       [29.314272],\n",
              "       [28.915306],\n",
              "       [26.037971],\n",
              "       [19.676708],\n",
              "       [21.343601],\n",
              "       [21.068008],\n",
              "       [22.542635],\n",
              "       [23.72571 ],\n",
              "       [28.406029],\n",
              "       [23.145775],\n",
              "       [26.115997],\n",
              "       [22.280815],\n",
              "       [28.948565],\n",
              "       [35.473568],\n",
              "       [38.36805 ],\n",
              "       [33.83216 ],\n",
              "       [30.416794],\n",
              "       [37.287617],\n",
              "       [40.6127  ],\n",
              "       [36.1725  ],\n",
              "       [38.633636],\n",
              "       [35.160484],\n",
              "       [32.308964],\n",
              "       [38.660877],\n",
              "       [29.160866],\n",
              "       [34.21268 ],\n",
              "       [27.516352],\n",
              "       [28.241745],\n",
              "       [33.332268],\n",
              "       [32.90684 ],\n",
              "       [35.93893 ],\n",
              "       [29.142374],\n",
              "       [35.86355 ],\n",
              "       [37.99666 ],\n",
              "       [36.565662],\n",
              "       [31.922842],\n",
              "       [32.82516 ],\n",
              "       [36.296467],\n",
              "       [35.98668 ],\n",
              "       [37.52617 ],\n",
              "       [32.425823],\n",
              "       [37.763977],\n",
              "       [34.56213 ],\n",
              "       [28.861183],\n",
              "       [32.22986 ],\n",
              "       [37.820297],\n",
              "       [32.425396],\n",
              "       [27.207369],\n",
              "       [33.07771 ],\n",
              "       [38.403713],\n",
              "       [36.905823],\n",
              "       [28.983242],\n",
              "       [27.868513],\n",
              "       [31.698267],\n",
              "       [30.04367 ],\n",
              "       [31.826103],\n",
              "       [27.981482],\n",
              "       [26.407778],\n",
              "       [31.756845],\n",
              "       [28.409286],\n",
              "       [31.023262],\n",
              "       [30.069286],\n",
              "       [32.127995],\n",
              "       [30.309732],\n",
              "       [32.505627],\n",
              "       [33.73245 ],\n",
              "       [39.620228],\n",
              "       [37.296974],\n",
              "       [38.59769 ],\n",
              "       [41.46812 ],\n",
              "       [34.3489  ],\n",
              "       [28.68864 ],\n",
              "       [28.482664],\n",
              "       [32.448185],\n",
              "       [30.53484 ],\n",
              "       [35.697147],\n",
              "       [35.04328 ],\n",
              "       [35.592888],\n",
              "       [42.509262],\n",
              "       [42.761185],\n",
              "       [41.225506],\n",
              "       [46.057007],\n",
              "       [37.423187],\n",
              "       [34.169262],\n",
              "       [34.95659 ],\n",
              "       [33.727142],\n",
              "       [31.003487],\n",
              "       [36.160313],\n",
              "       [35.84704 ],\n",
              "       [29.145355],\n",
              "       [27.606104],\n",
              "       [28.025702],\n",
              "       [27.987352],\n",
              "       [29.073439],\n",
              "       [29.377678],\n",
              "       [30.543186],\n",
              "       [32.1779  ],\n",
              "       [30.094223],\n",
              "       [28.260664],\n",
              "       [27.791729],\n",
              "       [28.251402],\n",
              "       [30.325867],\n",
              "       [28.084902],\n",
              "       [26.500896],\n",
              "       [30.213238],\n",
              "       [26.213022],\n",
              "       [28.684341],\n",
              "       [22.749794],\n",
              "       [22.351574],\n",
              "       [25.505457],\n",
              "       [24.616327],\n",
              "       [26.490612],\n",
              "       [27.706697],\n",
              "       [26.294071],\n",
              "       [29.672787],\n",
              "       [28.846966],\n",
              "       [27.904297],\n",
              "       [28.859148],\n",
              "       [28.103306],\n",
              "       [30.67959 ],\n",
              "       [32.371227],\n",
              "       [39.548325],\n",
              "       [38.075684],\n",
              "       [35.586956],\n",
              "       [35.994366],\n",
              "       [33.731876],\n",
              "       [30.635387],\n",
              "       [24.43523 ],\n",
              "       [32.49315 ],\n",
              "       [33.036007],\n",
              "       [33.742428],\n",
              "       [26.981829],\n",
              "       [25.30168 ],\n",
              "       [28.996946],\n",
              "       [31.982567],\n",
              "       [31.011648],\n",
              "       [30.750683],\n",
              "       [29.862513],\n",
              "       [28.498583],\n",
              "       [24.544489],\n",
              "       [26.008627],\n",
              "       [27.222462],\n",
              "       [26.158333],\n",
              "       [23.73996 ],\n",
              "       [32.62019 ],\n",
              "       [28.866348],\n",
              "       [31.080555],\n",
              "       [32.853207],\n",
              "       [33.32507 ],\n",
              "       [31.2562  ],\n",
              "       [31.726582],\n",
              "       [32.940475],\n",
              "       [33.664516],\n",
              "       [31.651924],\n",
              "       [27.56863 ],\n",
              "       [34.841675],\n",
              "       [29.879799],\n",
              "       [29.01297 ],\n",
              "       [30.5039  ],\n",
              "       [32.980667],\n",
              "       [24.862783],\n",
              "       [20.380524],\n",
              "       [21.266943],\n",
              "       [20.75203 ],\n",
              "       [23.31218 ],\n",
              "       [26.417757],\n",
              "       [31.134405],\n",
              "       [26.25177 ],\n",
              "       [23.74349 ],\n",
              "       [23.400442],\n",
              "       [27.878794],\n",
              "       [28.555822],\n",
              "       [26.961184],\n",
              "       [27.845146],\n",
              "       [32.56926 ],\n",
              "       [26.713305],\n",
              "       [27.307081],\n",
              "       [33.126633],\n",
              "       [27.10631 ],\n",
              "       [27.01863 ],\n",
              "       [33.074947],\n",
              "       [34.721226],\n",
              "       [32.78538 ],\n",
              "       [30.22579 ],\n",
              "       [27.790878],\n",
              "       [27.781553],\n",
              "       [30.143406],\n",
              "       [31.159626],\n",
              "       [29.818148],\n",
              "       [24.88453 ],\n",
              "       [27.748482],\n",
              "       [35.832912],\n",
              "       [33.795334],\n",
              "       [32.121605],\n",
              "       [30.873898],\n",
              "       [24.673763],\n",
              "       [24.051924],\n",
              "       [27.622753],\n",
              "       [29.346434],\n",
              "       [28.790922],\n",
              "       [30.65882 ],\n",
              "       [30.270266],\n",
              "       [33.815228],\n",
              "       [29.65677 ],\n",
              "       [21.75109 ],\n",
              "       [25.901306],\n",
              "       [24.61165 ],\n",
              "       [25.217758],\n",
              "       [26.079357],\n",
              "       [23.944393],\n",
              "       [25.373537],\n",
              "       [25.376768],\n",
              "       [30.098824],\n",
              "       [28.633163],\n",
              "       [26.380346],\n",
              "       [33.167606],\n",
              "       [30.510365],\n",
              "       [30.400797],\n",
              "       [36.33636 ],\n",
              "       [36.031677],\n",
              "       [35.78072 ],\n",
              "       [36.109642],\n",
              "       [33.79822 ],\n",
              "       [30.429974],\n",
              "       [32.755756],\n",
              "       [27.260178],\n",
              "       [27.979336],\n",
              "       [27.913303],\n",
              "       [28.295763],\n",
              "       [31.73066 ],\n",
              "       [23.916718],\n",
              "       [24.500238],\n",
              "       [23.685251],\n",
              "       [28.57892 ],\n",
              "       [33.92416 ],\n",
              "       [30.256218],\n",
              "       [24.802345],\n",
              "       [25.297028],\n",
              "       [24.56616 ],\n",
              "       [23.886627],\n",
              "       [26.792969],\n",
              "       [29.03716 ],\n",
              "       [27.618956],\n",
              "       [28.455448],\n",
              "       [30.074173],\n",
              "       [30.286694],\n",
              "       [31.418972],\n",
              "       [28.793037],\n",
              "       [26.058382],\n",
              "       [25.319204],\n",
              "       [28.64064 ],\n",
              "       [28.212261],\n",
              "       [29.857073],\n",
              "       [28.68658 ],\n",
              "       [29.35583 ],\n",
              "       [30.224442],\n",
              "       [29.630161],\n",
              "       [38.391155],\n",
              "       [31.914452],\n",
              "       [31.245523],\n",
              "       [28.795452],\n",
              "       [26.994164],\n",
              "       [24.168129],\n",
              "       [27.61246 ],\n",
              "       [30.645247],\n",
              "       [35.251286],\n",
              "       [36.487392],\n",
              "       [33.111656],\n",
              "       [26.95933 ],\n",
              "       [35.309635],\n",
              "       [32.823593],\n",
              "       [33.49119 ],\n",
              "       [31.91188 ],\n",
              "       [32.790104],\n",
              "       [27.85697 ],\n",
              "       [29.042664],\n",
              "       [27.232609],\n",
              "       [27.350956],\n",
              "       [22.78048 ],\n",
              "       [27.941664],\n",
              "       [28.735115],\n",
              "       [30.386549],\n",
              "       [32.734917],\n",
              "       [26.800543],\n",
              "       [26.032892],\n",
              "       [28.952831],\n",
              "       [28.812622],\n",
              "       [33.601208],\n",
              "       [29.14372 ],\n",
              "       [35.354797],\n",
              "       [33.040455],\n",
              "       [31.932142],\n",
              "       [25.176653],\n",
              "       [25.531193],\n",
              "       [30.652288],\n",
              "       [26.17257 ],\n",
              "       [27.671535],\n",
              "       [28.867933],\n",
              "       [30.215237],\n",
              "       [28.90964 ],\n",
              "       [25.889812]], dtype=float32)"
            ]
          },
          "metadata": {
            "tags": []
          },
          "execution_count": 29
        }
      ]
    },
    {
      "metadata": {
        "id": "YHYDT8UWwCwn",
        "colab_type": "code",
        "colab": {}
      },
      "cell_type": "code",
      "source": [
        "test_ids = np.array(range(1,401))"
      ],
      "execution_count": 0,
      "outputs": []
    },
    {
      "metadata": {
        "id": "mvNZQhmPwkip",
        "colab_type": "code",
        "colab": {}
      },
      "cell_type": "code",
      "source": [
        "prediction_test = np.concatenate(np.round(y_pred_m3))"
      ],
      "execution_count": 0,
      "outputs": []
    },
    {
      "metadata": {
        "id": "CdyBzQHsxCkG",
        "colab_type": "code",
        "colab": {
          "base_uri": "https://localhost:8080/",
          "height": 68
        },
        "outputId": "694977ed-3095-4059-e6a8-53d9a5f5d68d"
      },
      "cell_type": "code",
      "source": [
        "print(test_ids.shape)\n",
        "print(prediction_test.shape)\n",
        "print(y_pred_m3.shape)"
      ],
      "execution_count": 36,
      "outputs": [
        {
          "output_type": "stream",
          "text": [
            "(400,)\n",
            "(400,)\n",
            "(400, 1)\n"
          ],
          "name": "stdout"
        }
      ]
    },
    {
      "metadata": {
        "id": "sz1iNVeAvMRC",
        "colab_type": "code",
        "colab": {}
      },
      "cell_type": "code",
      "source": [
        "d = {'id': test_ids, 'count': prediction_test}\n",
        "entrega = pd.DataFrame(data=d,columns=['id','count'])\n",
        "entrega.to_csv('drive/Redes neuronales/Tarea 3/mysubmission.csv', index=False)"
      ],
      "execution_count": 0,
      "outputs": []
    },
    {
      "metadata": {
        "id": "QI966QZbTiO5",
        "colab_type": "code",
        "colab": {}
      },
      "cell_type": "code",
      "source": [
        "def plot_train(hist):\n",
        "  plt.subplot(121)\n",
        "  plt.plot(range(epochs), hist.history['loss'], 'bo-', label = 'Entrenamiento')\n",
        "  plt.title('Función de pérdida durante el entrenamiento')\n",
        "  plt.ylabel('MSE')\n",
        "  plt.xlabel('Epochs')\n",
        "  \n",
        "  \n",
        "  plt.subplot(122)\n",
        "  plt.plot(range(epochs), hist.history['val_loss'], 'ro-', label = 'Validación')\n",
        "  plt.title('Función de pérdida durante el entrenamiento')\n",
        "  plt.ylabel('MSE')\n",
        "  plt.xlabel('Epochs')\n",
        "  \n",
        "  plt.legend()\n",
        "  plt.show()"
      ],
      "execution_count": 0,
      "outputs": []
    },
    {
      "metadata": {
        "id": "eYZAH7v1Tr4P",
        "colab_type": "code",
        "colab": {}
      },
      "cell_type": "code",
      "source": [
        "def create_sub(prediction_test, name = 'mysubmission'):\n",
        "  test_ids = np.array(range(1,401))\n",
        "  d = {'id': test_ids, 'count': prediction_test}\n",
        "  entrega = pd.DataFrame(data=d,columns=['id','count'])\n",
        "  entrega.to_csv('drive/Redes neuronales/Tarea 3/'+name+'.csv', index=False)"
      ],
      "execution_count": 0,
      "outputs": []
    },
    {
      "metadata": {
        "id": "jax6hBRtT3Cf",
        "colab_type": "code",
        "colab": {
          "base_uri": "https://localhost:8080/",
          "height": 612
        },
        "outputId": "bfbd96be-afea-4ad4-de1b-3d2368d6d6b7"
      },
      "cell_type": "code",
      "source": [
        "opt = rmsprop()\n",
        "batch_size = 16\n",
        "epochs = 20\n",
        "\n",
        "model4 = Sequential()\n",
        "model4.add(Conv2D(64, (5, 5), padding='same', input_shape=X_train.shape[1:],activation='relu'))\n",
        "model4.add(Conv2D(64, (3, 3), padding='same',activation='relu'))\n",
        "model4.add(BatchNormalization())\n",
        "model4.add(MaxPooling2D(pool_size=(2, 2)))\n",
        "model4.add(Dropout(0.25))\n",
        "\n",
        "model4.add(Conv2D(32, (3, 3), padding='same',activation='relu'))\n",
        "model4.add(Conv2D(32, (3, 3), padding='same',activation='relu'))\n",
        "model4.add(BatchNormalization())\n",
        "model4.add(MaxPooling2D(pool_size=(2, 2)))\n",
        "model4.add(Dropout(0.25))\n",
        "\n",
        "model4.add(Flatten())\n",
        "model4.add(Dense(32,activation='relu'))\n",
        "model4.add(BatchNormalization())\n",
        "model4.add(Dense(1,activation='linear'))\n",
        "\n",
        "model4.compile(optimizer=opt,loss=\"mse\")\n",
        "model4.summary()"
      ],
      "execution_count": 14,
      "outputs": [
        {
          "output_type": "stream",
          "text": [
            "_________________________________________________________________\n",
            "Layer (type)                 Output Shape              Param #   \n",
            "=================================================================\n",
            "conv2d_9 (Conv2D)            (None, 480, 640, 64)      4864      \n",
            "_________________________________________________________________\n",
            "conv2d_10 (Conv2D)           (None, 480, 640, 64)      36928     \n",
            "_________________________________________________________________\n",
            "batch_normalization_7 (Batch (None, 480, 640, 64)      256       \n",
            "_________________________________________________________________\n",
            "max_pooling2d_5 (MaxPooling2 (None, 240, 320, 64)      0         \n",
            "_________________________________________________________________\n",
            "dropout_5 (Dropout)          (None, 240, 320, 64)      0         \n",
            "_________________________________________________________________\n",
            "conv2d_11 (Conv2D)           (None, 240, 320, 32)      18464     \n",
            "_________________________________________________________________\n",
            "conv2d_12 (Conv2D)           (None, 240, 320, 32)      9248      \n",
            "_________________________________________________________________\n",
            "batch_normalization_8 (Batch (None, 240, 320, 32)      128       \n",
            "_________________________________________________________________\n",
            "max_pooling2d_6 (MaxPooling2 (None, 120, 160, 32)      0         \n",
            "_________________________________________________________________\n",
            "dropout_6 (Dropout)          (None, 120, 160, 32)      0         \n",
            "_________________________________________________________________\n",
            "flatten_3 (Flatten)          (None, 614400)            0         \n",
            "_________________________________________________________________\n",
            "dense_5 (Dense)              (None, 32)                19660832  \n",
            "_________________________________________________________________\n",
            "batch_normalization_9 (Batch (None, 32)                128       \n",
            "_________________________________________________________________\n",
            "dense_6 (Dense)              (None, 1)                 33        \n",
            "=================================================================\n",
            "Total params: 19,730,881\n",
            "Trainable params: 19,730,625\n",
            "Non-trainable params: 256\n",
            "_________________________________________________________________\n"
          ],
          "name": "stdout"
        }
      ]
    },
    {
      "metadata": {
        "id": "L3jqAFNvYXPY",
        "colab_type": "code",
        "colab": {
          "base_uri": "https://localhost:8080/",
          "height": 1054
        },
        "outputId": "3f58f418-c5f2-4b7f-c0b3-748472e83028"
      },
      "cell_type": "code",
      "source": [
        "hist_m4 = model4.fit(X_train, Y_train,epochs=epochs,batch_size=batch_size, validation_data=(X_val, Y_val), shuffle=True)"
      ],
      "execution_count": 15,
      "outputs": [
        {
          "output_type": "stream",
          "text": [
            "Train on 1200 samples, validate on 400 samples\n",
            "Epoch 1/30\n",
            "1200/1200 [==============================] - 150s 125ms/step - loss: 960.4460 - val_loss: 1976.1498\n",
            "Epoch 2/30\n",
            "1200/1200 [==============================] - 142s 119ms/step - loss: 885.6131 - val_loss: 1173.4451\n",
            "Epoch 3/30\n",
            "1200/1200 [==============================] - 142s 119ms/step - loss: 798.4834 - val_loss: 1102.5491\n",
            "Epoch 4/30\n",
            "1200/1200 [==============================] - 142s 118ms/step - loss: 698.6486 - val_loss: 1276.2367\n",
            "Epoch 5/30\n",
            "1200/1200 [==============================] - 142s 118ms/step - loss: 590.3207 - val_loss: 696.6438\n",
            "Epoch 6/30\n",
            "1200/1200 [==============================] - 142s 118ms/step - loss: 474.2465 - val_loss: 375.4185\n",
            "Epoch 7/30\n",
            "1200/1200 [==============================] - 142s 118ms/step - loss: 358.1897 - val_loss: 98.6137\n",
            "Epoch 8/30\n",
            "1200/1200 [==============================] - 142s 118ms/step - loss: 249.8851 - val_loss: 119.6841\n",
            "Epoch 9/30\n",
            "1200/1200 [==============================] - 142s 118ms/step - loss: 151.7222 - val_loss: 11.4973\n",
            "Epoch 10/30\n",
            "1200/1200 [==============================] - 141s 118ms/step - loss: 74.7934 - val_loss: 20.3137\n",
            "Epoch 11/30\n",
            "1200/1200 [==============================] - 141s 118ms/step - loss: 25.7632 - val_loss: 3788.9065\n",
            "Epoch 12/30\n",
            "1200/1200 [==============================] - 141s 118ms/step - loss: 6.3377 - val_loss: 37.5419\n",
            "Epoch 13/30\n",
            "1200/1200 [==============================] - 141s 118ms/step - loss: 4.4707 - val_loss: 6.4529\n",
            "Epoch 14/30\n",
            "1200/1200 [==============================] - 141s 118ms/step - loss: 3.7183 - val_loss: 53.4968\n",
            "Epoch 15/30\n",
            "1200/1200 [==============================] - 141s 117ms/step - loss: 4.6456 - val_loss: 16.9903\n",
            "Epoch 16/30\n",
            "1200/1200 [==============================] - 141s 118ms/step - loss: 3.6811 - val_loss: 61.3300\n",
            "Epoch 17/30\n",
            "1200/1200 [==============================] - 141s 117ms/step - loss: 4.3629 - val_loss: 223.3091\n",
            "Epoch 18/30\n",
            "1200/1200 [==============================] - 141s 118ms/step - loss: 4.6161 - val_loss: 50.3809\n",
            "Epoch 19/30\n",
            "1200/1200 [==============================] - 141s 118ms/step - loss: 4.7835 - val_loss: 6.3500\n",
            "Epoch 20/30\n",
            "1200/1200 [==============================] - 141s 118ms/step - loss: 4.5371 - val_loss: 6.5679\n",
            "Epoch 21/30\n",
            "1200/1200 [==============================] - 141s 117ms/step - loss: 3.8602 - val_loss: 13.5970\n",
            "Epoch 22/30\n",
            "1200/1200 [==============================] - 140s 117ms/step - loss: 4.4092 - val_loss: 19.6231\n",
            "Epoch 23/30\n",
            "1200/1200 [==============================] - 141s 117ms/step - loss: 3.2717 - val_loss: 39.1988\n",
            "Epoch 24/30\n",
            "1200/1200 [==============================] - 141s 117ms/step - loss: 3.6691 - val_loss: 5.7251\n",
            "Epoch 25/30\n",
            "1200/1200 [==============================] - 140s 117ms/step - loss: 3.4299 - val_loss: 17.2652\n",
            "Epoch 26/30\n",
            "1200/1200 [==============================] - 141s 117ms/step - loss: 3.4234 - val_loss: 10486077.8893\n",
            "Epoch 27/30\n",
            "1200/1200 [==============================] - 140s 117ms/step - loss: 3.0514 - val_loss: 4.4198\n",
            "Epoch 28/30\n",
            "1200/1200 [==============================] - 140s 117ms/step - loss: 4.3863 - val_loss: 5.7367\n",
            "Epoch 29/30\n",
            "1200/1200 [==============================] - 140s 117ms/step - loss: 3.4748 - val_loss: 4.8791\n",
            "Epoch 30/30\n",
            "1200/1200 [==============================] - 140s 117ms/step - loss: 3.6436 - val_loss: 6.9103\n"
          ],
          "name": "stdout"
        }
      ]
    },
    {
      "metadata": {
        "id": "4x1YoAuionQq",
        "colab_type": "code",
        "colab": {
          "base_uri": "https://localhost:8080/",
          "height": 294
        },
        "outputId": "a58e6b37-2932-4ae0-e3dd-e56e9c113233"
      },
      "cell_type": "code",
      "source": [
        "plot_train(hist_m4)"
      ],
      "execution_count": 16,
      "outputs": [
        {
          "output_type": "display_data",
          "data": {
            "image/png": "[encoded data removed]",
            "text/plain": [
              "<matplotlib.figure.Figure at 0x7f0a00d1d5c0>"
            ]
          },
          "metadata": {
            "tags": []
          }
        }
      ]
    },
    {
      "metadata": {
        "id": "Qws0huUlpNpY",
        "colab_type": "code",
        "colab": {}
      },
      "cell_type": "code",
      "source": [
        "model4.save(\"drive/Redes neuronales/Tarea 3/m4.h5\")"
      ],
      "execution_count": 0,
      "outputs": []
    },
    {
      "metadata": {
        "id": "UsYaqos4phv_",
        "colab_type": "code",
        "colab": {
          "base_uri": "https://localhost:8080/",
          "height": 294
        },
        "outputId": "e6c6b19f-d03d-4c56-cdc8-2ea44aa4ed4a"
      },
      "cell_type": "code",
      "source": [
        "stop = 23\n",
        "plt.plot(range(stop), hist_m4.history['loss'][:stop], 'bo-', label = 'Entrenamiento')\n",
        "plt.plot(range(stop), hist_m4.history['val_loss'][:stop], 'ro-', label = 'Validación')\n",
        "plt.title('Función de pérdida durante el entrenamiento')\n",
        "plt.ylabel('MSE')\n",
        "plt.xlabel('Epochs')\n",
        "plt.legend()\n",
        "plt.show()"
      ],
      "execution_count": 19,
      "outputs": [
        {
          "output_type": "display_data",
          "data": {
            "image/png": "[encoded data removed]",
            "text/plain": [
              "<matplotlib.figure.Figure at 0x7f09f721e0f0>"
            ]
          },
          "metadata": {
            "tags": []
          }
        }
      ]
    },
    {
      "metadata": {
        "id": "pVz5gW2ysJi8",
        "colab_type": "code",
        "colab": {}
      },
      "cell_type": "code",
      "source": [
        "test = np.load('drive/Redes neuronales/Tarea 3/images_test.npy')"
      ],
      "execution_count": 0,
      "outputs": []
    },
    {
      "metadata": {
        "id": "_e38BGXKuaZ5",
        "colab_type": "code",
        "colab": {}
      },
      "cell_type": "code",
      "source": [
        "test = test.astype('float32')"
      ],
      "execution_count": 0,
      "outputs": []
    },
    {
      "metadata": {
        "id": "zpcIEJcqpEYr",
        "colab_type": "code",
        "colab": {}
      },
      "cell_type": "code",
      "source": [
        "test /= 255.0"
      ],
      "execution_count": 0,
      "outputs": []
    },
    {
      "metadata": {
        "id": "QLYI6fEUothT",
        "colab_type": "code",
        "colab": {}
      },
      "cell_type": "code",
      "source": [
        "y_pred_m4 = model4.predict(test) "
      ],
      "execution_count": 0,
      "outputs": []
    },
    {
      "metadata": {
        "id": "Npt926IDp8qu",
        "colab_type": "code",
        "colab": {}
      },
      "cell_type": "code",
      "source": [
        "prediction_test_4 = np.concatenate(np.round(y_pred_m4))"
      ],
      "execution_count": 0,
      "outputs": []
    },
    {
      "metadata": {
        "id": "0D5gvv-kqDQ1",
        "colab_type": "code",
        "colab": {}
      },
      "cell_type": "code",
      "source": [
        "create_sub(prediction_test_4, \"sub2\")"
      ],
      "execution_count": 0,
      "outputs": []
    },
    {
      "metadata": {
        "id": "ygimNGePsDnx",
        "colab_type": "text"
      },
      "cell_type": "markdown",
      "source": [
        "*model5*: \n",
        "  * cambiar optimizador: rmsprop por sgd\n",
        "  * cambio tamaño kernel en primera convolución de segunda tanda\n",
        "  * aumentar primera capa densa"
      ]
    },
    {
      "metadata": {
        "id": "Dg4wrSpWsCqc",
        "colab_type": "code",
        "colab": {
          "base_uri": "https://localhost:8080/",
          "height": 612
        },
        "outputId": "8b7f55fb-f814-4fb8-e901-3397ee337dbd"
      },
      "cell_type": "code",
      "source": [
        "#opt = rmsprop()\n",
        "opt = SGD(lr=0.01,momentum=0.7)\n",
        "batch_size = 16\n",
        "epochs = 30\n",
        "\n",
        "model5 = Sequential()\n",
        "model5.add(Conv2D(64, (5, 5), padding='same', input_shape=X_train.shape[1:],activation='relu'))\n",
        "model5.add(Conv2D(64, (3, 3), padding='same',activation='relu'))\n",
        "model5.add(BatchNormalization())\n",
        "model5.add(MaxPooling2D(pool_size=(2, 2)))\n",
        "model5.add(Dropout(0.3))\n",
        "\n",
        "model5.add(Conv2D(32, (5, 5), padding='same',activation='relu'))\n",
        "model5.add(Conv2D(32, (3, 3), padding='same',activation='relu'))\n",
        "model5.add(BatchNormalization())\n",
        "model5.add(MaxPooling2D(pool_size=(2, 2)))\n",
        "model5.add(Dropout(0.3))\n",
        "           \n",
        "model5.add(Flatten())\n",
        "model5.add(Dense(64,activation='relu'))\n",
        "           \n",
        "model5.add(BatchNormalization())\n",
        "model5.add(Dense(1,activation='linear'))\n",
        "\n",
        "model5.compile(optimizer=opt,loss=\"mse\")\n",
        "model5.summary()"
      ],
      "execution_count": 9,
      "outputs": [
        {
          "output_type": "stream",
          "text": [
            "_________________________________________________________________\n",
            "Layer (type)                 Output Shape              Param #   \n",
            "=================================================================\n",
            "conv2d_1 (Conv2D)            (None, 480, 640, 64)      4864      \n",
            "_________________________________________________________________\n",
            "conv2d_2 (Conv2D)            (None, 480, 640, 64)      36928     \n",
            "_________________________________________________________________\n",
            "batch_normalization_1 (Batch (None, 480, 640, 64)      256       \n",
            "_________________________________________________________________\n",
            "max_pooling2d_1 (MaxPooling2 (None, 240, 320, 64)      0         \n",
            "_________________________________________________________________\n",
            "dropout_1 (Dropout)          (None, 240, 320, 64)      0         \n",
            "_________________________________________________________________\n",
            "conv2d_3 (Conv2D)            (None, 240, 320, 32)      51232     \n",
            "_________________________________________________________________\n",
            "conv2d_4 (Conv2D)            (None, 240, 320, 32)      9248      \n",
            "_________________________________________________________________\n",
            "batch_normalization_2 (Batch (None, 240, 320, 32)      128       \n",
            "_________________________________________________________________\n",
            "max_pooling2d_2 (MaxPooling2 (None, 120, 160, 32)      0         \n",
            "_________________________________________________________________\n",
            "dropout_2 (Dropout)          (None, 120, 160, 32)      0         \n",
            "_________________________________________________________________\n",
            "flatten_1 (Flatten)          (None, 614400)            0         \n",
            "_________________________________________________________________\n",
            "dense_1 (Dense)              (None, 64)                39321664  \n",
            "_________________________________________________________________\n",
            "batch_normalization_3 (Batch (None, 64)                256       \n",
            "_________________________________________________________________\n",
            "dense_2 (Dense)              (None, 1)                 65        \n",
            "=================================================================\n",
            "Total params: 39,424,641\n",
            "Trainable params: 39,424,321\n",
            "Non-trainable params: 320\n",
            "_________________________________________________________________\n"
          ],
          "name": "stdout"
        }
      ]
    },
    {
      "metadata": {
        "id": "c_DE9SchwWDq",
        "colab_type": "code",
        "colab": {
          "base_uri": "https://localhost:8080/",
          "height": 1054
        },
        "outputId": "f0139f7f-5468-49b7-e758-11876b751b54"
      },
      "cell_type": "code",
      "source": [
        "hist_m5 = model5.fit(X_train, Y_train,epochs=epochs,batch_size=batch_size, validation_data=(X_val, Y_val), shuffle=True)"
      ],
      "execution_count": 10,
      "outputs": [
        {
          "output_type": "stream",
          "text": [
            "Train on 1200 samples, validate on 400 samples\n",
            "Epoch 1/30\n",
            "1200/1200 [==============================] - 157s 131ms/step - loss: 89.9238 - val_loss: 51536.9757\n",
            "Epoch 2/30\n",
            "1200/1200 [==============================] - 150s 125ms/step - loss: 18.8284 - val_loss: 10.8959\n",
            "Epoch 3/30\n",
            "1200/1200 [==============================] - 150s 125ms/step - loss: 14.9403 - val_loss: 17.7409\n",
            "Epoch 4/30\n",
            "1200/1200 [==============================] - 150s 125ms/step - loss: 13.6870 - val_loss: 7.7181\n",
            "Epoch 5/30\n",
            "1200/1200 [==============================] - 150s 125ms/step - loss: 7.5119 - val_loss: 23.9980\n",
            "Epoch 6/30\n",
            "1200/1200 [==============================] - 150s 125ms/step - loss: 10.8130 - val_loss: 6.2640\n",
            "Epoch 7/30\n",
            "1200/1200 [==============================] - 150s 125ms/step - loss: 10.6259 - val_loss: 5.3797\n",
            "Epoch 8/30\n",
            "1200/1200 [==============================] - 150s 125ms/step - loss: 9.2637 - val_loss: 6.7223\n",
            "Epoch 9/30\n",
            "1200/1200 [==============================] - 149s 124ms/step - loss: 11.0609 - val_loss: 7.8556\n",
            "Epoch 10/30\n",
            "1200/1200 [==============================] - 149s 124ms/step - loss: 10.2745 - val_loss: 33.6018\n",
            "Epoch 11/30\n",
            "1200/1200 [==============================] - 149s 124ms/step - loss: 9.7277 - val_loss: 50.2590\n",
            "Epoch 12/30\n",
            "1200/1200 [==============================] - 149s 124ms/step - loss: 7.8548 - val_loss: 27.5861\n",
            "Epoch 13/30\n",
            "1200/1200 [==============================] - 149s 124ms/step - loss: 10.2768 - val_loss: 7.9021\n",
            "Epoch 14/30\n",
            "1200/1200 [==============================] - 149s 124ms/step - loss: 8.5302 - val_loss: 13.4057\n",
            "Epoch 15/30\n",
            "1200/1200 [==============================] - 149s 124ms/step - loss: 9.2407 - val_loss: 7.9513\n",
            "Epoch 16/30\n",
            "1200/1200 [==============================] - 149s 124ms/step - loss: 8.0817 - val_loss: 9.9787\n",
            "Epoch 17/30\n",
            "1200/1200 [==============================] - 149s 124ms/step - loss: 16.1518 - val_loss: 272.6695\n",
            "Epoch 18/30\n",
            "1200/1200 [==============================] - 149s 124ms/step - loss: 15.1377 - val_loss: 112.2409\n",
            "Epoch 19/30\n",
            "1200/1200 [==============================] - 149s 124ms/step - loss: 10.8461 - val_loss: 6.6079\n",
            "Epoch 20/30\n",
            "1200/1200 [==============================] - 149s 124ms/step - loss: 10.4718 - val_loss: 9.0877\n",
            "Epoch 21/30\n",
            "1200/1200 [==============================] - 149s 124ms/step - loss: 8.3434 - val_loss: 33.1634\n",
            "Epoch 22/30\n",
            "1200/1200 [==============================] - 149s 124ms/step - loss: 8.4555 - val_loss: 11.5021\n",
            "Epoch 23/30\n",
            "1200/1200 [==============================] - 149s 124ms/step - loss: 9.5756 - val_loss: 14.6144\n",
            "Epoch 24/30\n",
            "1200/1200 [==============================] - 149s 124ms/step - loss: 8.9674 - val_loss: 18.6071\n",
            "Epoch 25/30\n",
            "1200/1200 [==============================] - 149s 124ms/step - loss: 11.1486 - val_loss: 5.5926\n",
            "Epoch 26/30\n",
            "1200/1200 [==============================] - 149s 124ms/step - loss: 7.4626 - val_loss: 5.6824\n",
            "Epoch 27/30\n",
            "1200/1200 [==============================] - 149s 124ms/step - loss: 7.4591 - val_loss: 6.6776\n",
            "Epoch 28/30\n",
            "1200/1200 [==============================] - 149s 124ms/step - loss: 8.7957 - val_loss: 7.1705\n",
            "Epoch 29/30\n",
            "1200/1200 [==============================] - 149s 124ms/step - loss: 7.4469 - val_loss: 7.4081\n",
            "Epoch 30/30\n",
            "1200/1200 [==============================] - 149s 124ms/step - loss: 8.5691 - val_loss: 8.2897\n"
          ],
          "name": "stdout"
        }
      ]
    },
    {
      "metadata": {
        "id": "3kyObisnD9EL",
        "colab_type": "code",
        "colab": {
          "base_uri": "https://localhost:8080/",
          "height": 294
        },
        "outputId": "fd2999f4-d08a-470b-8203-3282c3f19d2f"
      },
      "cell_type": "code",
      "source": [
        "plot_train(hist_m5)"
      ],
      "execution_count": 14,
      "outputs": [
        {
          "output_type": "display_data",
          "data": {
            "image/png": "[encoded data removed]",
            "text/plain": [
              "<matplotlib.figure.Figure at 0x7f8ccff6c9e8>"
            ]
          },
          "metadata": {
            "tags": []
          }
        }
      ]
    },
    {
      "metadata": {
        "id": "lkO2jV_MEOlP",
        "colab_type": "code",
        "colab": {
          "base_uri": "https://localhost:8080/",
          "height": 294
        },
        "outputId": "8d1f8b4e-5af3-4116-c47a-1a2e342d74de"
      },
      "cell_type": "code",
      "source": [
        "start = 23\n",
        "plt.plot(range(28), hist_m5.history['loss'][2:], 'bo-', label = 'Entrenamiento')\n",
        "plt.plot(range(28), hist_m5.history['val_loss'][2:], 'ro-', label = 'Validación')\n",
        "plt.title('Función de pérdida durante el entrenamiento')\n",
        "plt.ylabel('MSE')\n",
        "plt.xlabel('Epochs')\n",
        "plt.legend()\n",
        "plt.show()"
      ],
      "execution_count": 17,
      "outputs": [
        {
          "output_type": "display_data",
          "data": {
            "image/png": "[encoded data removed]",
            "text/plain": [
              "<matplotlib.figure.Figure at 0x7f8cd0063c50>"
            ]
          },
          "metadata": {
            "tags": []
          }
        }
      ]
    },
    {
      "metadata": {
        "id": "7P_nsQznOHbn",
        "colab_type": "code",
        "colab": {}
      },
      "cell_type": "code",
      "source": [
        "test = np.load('drive/Redes neuronales/Tarea 3/images_test.npy')"
      ],
      "execution_count": 0,
      "outputs": []
    },
    {
      "metadata": {
        "id": "AafdkDTEOL25",
        "colab_type": "code",
        "colab": {}
      },
      "cell_type": "code",
      "source": [
        "test = test.astype('float32')"
      ],
      "execution_count": 0,
      "outputs": []
    },
    {
      "metadata": {
        "id": "igIJz_o5OPG-",
        "colab_type": "code",
        "colab": {}
      },
      "cell_type": "code",
      "source": [
        "test /= 255.0"
      ],
      "execution_count": 0,
      "outputs": []
    },
    {
      "metadata": {
        "id": "E8gkhpM1OUZ5",
        "colab_type": "code",
        "colab": {}
      },
      "cell_type": "code",
      "source": [
        "y_pred_m5 = model5.predict(test) "
      ],
      "execution_count": 0,
      "outputs": []
    },
    {
      "metadata": {
        "id": "cwRKNMq4Oe1r",
        "colab_type": "code",
        "colab": {}
      },
      "cell_type": "code",
      "source": [
        "prediction_test_5 = np.concatenate(np.round(y_pred_m5))\n",
        "create_sub(prediction_test_5, \"sub3\")"
      ],
      "execution_count": 0,
      "outputs": []
    },
    {
      "metadata": {
        "id": "KeB0j0n9O1S8",
        "colab_type": "text"
      },
      "cell_type": "markdown",
      "source": [
        "*mdel5* no mejora a *model4* seguir probando~"
      ]
    },
    {
      "metadata": {
        "id": "yPV9Ike0SeQ0",
        "colab_type": "text"
      },
      "cell_type": "markdown",
      "source": [
        "*model6*: inspirado en arquitectura ccnn http://agamenon.tsc.uah.es/Investigacion/gram/publications/eccv2016-onoro.pdf"
      ]
    },
    {
      "metadata": {
        "id": "ZPjCCxa0O0Dn",
        "colab_type": "code",
        "colab": {
          "base_uri": "https://localhost:8080/",
          "height": 1190
        },
        "outputId": "7031bf1e-eea9-4d15-da48-614828eb626e"
      },
      "cell_type": "code",
      "source": [
        "opt = rmsprop()\n",
        "#opt = SGD(lr=0.1,momentum=0.7)\n",
        "batch_size = 16\n",
        "epochs = 30\n",
        "\n",
        "model6 = Sequential()\n",
        "model6.add(Conv2D(64, (5, 5), padding='same', input_shape=X_train.shape[1:],activation='relu'))\n",
        "model6.add(Conv2D(64, (3, 3), padding='same',activation='relu'))\n",
        "model6.add(BatchNormalization())\n",
        "model6.add(MaxPooling2D(pool_size=(2, 2)))\n",
        "model6.add(Dropout(0.3))\n",
        "\n",
        "model6.add(Conv2D(64, (5, 5), padding='same',activation='relu'))\n",
        "model6.add(Conv2D(64, (3, 3), padding='same',activation='relu'))\n",
        "model6.add(BatchNormalization())\n",
        "model6.add(MaxPooling2D(pool_size=(2, 2)))\n",
        "model6.add(Dropout(0.3))\n",
        "\n",
        "model6.add(Conv2D(64, (5, 5), padding='same',activation='relu'))\n",
        "model6.add(Conv2D(64, (3, 3), padding='same',activation='relu'))\n",
        "model6.add(BatchNormalization())\n",
        "model6.add(MaxPooling2D(pool_size=(4, 4)))\n",
        "model6.add(Dropout(0.3))\n",
        "\n",
        "model6.add(Conv2D(1000, (5, 5), padding='same',activation='relu'))\n",
        "model6.add(Conv2D(1000, (3, 3), padding='same',activation='relu'))\n",
        "model6.add(BatchNormalization())\n",
        "model6.add(Dropout(0.3))\n",
        "\n",
        "model6.add(Conv2D(400, (5, 5), padding='same',activation='relu'))\n",
        "model6.add(Conv2D(400, (3, 3), padding='same',activation='relu'))\n",
        "model6.add(BatchNormalization())\n",
        "model6.add(Dropout(0.3))\n",
        "           \n",
        "model6.add(Conv2D(1, (5, 5), padding='same',activation='relu'))\n",
        "model6.add(Conv2D(1, (3, 3), padding='same',activation='relu'))\n",
        "model6.add(BatchNormalization())\n",
        "model6.add(Dropout(0.3))\n",
        "\n",
        "model6.add(Flatten())\n",
        "model6.add(Dense(64,activation='relu'))\n",
        "           \n",
        "model6.add(BatchNormalization())\n",
        "model6.add(Dense(1,activation='linear'))\n",
        "\n",
        "model6.compile(optimizer=opt,loss=\"mse\")\n",
        "model6.summary()"
      ],
      "execution_count": 9,
      "outputs": [
        {
          "output_type": "stream",
          "text": [
            "_________________________________________________________________\n",
            "Layer (type)                 Output Shape              Param #   \n",
            "=================================================================\n",
            "conv2d_1 (Conv2D)            (None, 480, 640, 64)      4864      \n",
            "_________________________________________________________________\n",
            "conv2d_2 (Conv2D)            (None, 480, 640, 64)      36928     \n",
            "_________________________________________________________________\n",
            "batch_normalization_1 (Batch (None, 480, 640, 64)      256       \n",
            "_________________________________________________________________\n",
            "max_pooling2d_1 (MaxPooling2 (None, 240, 320, 64)      0         \n",
            "_________________________________________________________________\n",
            "dropout_1 (Dropout)          (None, 240, 320, 64)      0         \n",
            "_________________________________________________________________\n",
            "conv2d_3 (Conv2D)            (None, 240, 320, 64)      102464    \n",
            "_________________________________________________________________\n",
            "conv2d_4 (Conv2D)            (None, 240, 320, 64)      36928     \n",
            "_________________________________________________________________\n",
            "batch_normalization_2 (Batch (None, 240, 320, 64)      256       \n",
            "_________________________________________________________________\n",
            "max_pooling2d_2 (MaxPooling2 (None, 120, 160, 64)      0         \n",
            "_________________________________________________________________\n",
            "dropout_2 (Dropout)          (None, 120, 160, 64)      0         \n",
            "_________________________________________________________________\n",
            "conv2d_5 (Conv2D)            (None, 120, 160, 64)      102464    \n",
            "_________________________________________________________________\n",
            "conv2d_6 (Conv2D)            (None, 120, 160, 64)      36928     \n",
            "_________________________________________________________________\n",
            "batch_normalization_3 (Batch (None, 120, 160, 64)      256       \n",
            "_________________________________________________________________\n",
            "max_pooling2d_3 (MaxPooling2 (None, 30, 40, 64)        0         \n",
            "_________________________________________________________________\n",
            "dropout_3 (Dropout)          (None, 30, 40, 64)        0         \n",
            "_________________________________________________________________\n",
            "conv2d_7 (Conv2D)            (None, 30, 40, 1000)      1601000   \n",
            "_________________________________________________________________\n",
            "conv2d_8 (Conv2D)            (None, 30, 40, 1000)      9001000   \n",
            "_________________________________________________________________\n",
            "batch_normalization_4 (Batch (None, 30, 40, 1000)      4000      \n",
            "_________________________________________________________________\n",
            "dropout_4 (Dropout)          (None, 30, 40, 1000)      0         \n",
            "_________________________________________________________________\n",
            "conv2d_9 (Conv2D)            (None, 30, 40, 400)       10000400  \n",
            "_________________________________________________________________\n",
            "conv2d_10 (Conv2D)           (None, 30, 40, 400)       1440400   \n",
            "_________________________________________________________________\n",
            "batch_normalization_5 (Batch (None, 30, 40, 400)       1600      \n",
            "_________________________________________________________________\n",
            "dropout_5 (Dropout)          (None, 30, 40, 400)       0         \n",
            "_________________________________________________________________\n",
            "conv2d_11 (Conv2D)           (None, 30, 40, 1)         10001     \n",
            "_________________________________________________________________\n",
            "conv2d_12 (Conv2D)           (None, 30, 40, 1)         10        \n",
            "_________________________________________________________________\n",
            "batch_normalization_6 (Batch (None, 30, 40, 1)         4         \n",
            "_________________________________________________________________\n",
            "dropout_6 (Dropout)          (None, 30, 40, 1)         0         \n",
            "_________________________________________________________________\n",
            "flatten_1 (Flatten)          (None, 1200)              0         \n",
            "_________________________________________________________________\n",
            "dense_1 (Dense)              (None, 64)                76864     \n",
            "_________________________________________________________________\n",
            "batch_normalization_7 (Batch (None, 64)                256       \n",
            "_________________________________________________________________\n",
            "dense_2 (Dense)              (None, 1)                 65        \n",
            "=================================================================\n",
            "Total params: 22,456,944\n",
            "Trainable params: 22,453,630\n",
            "Non-trainable params: 3,314\n",
            "_________________________________________________________________\n"
          ],
          "name": "stdout"
        }
      ]
    },
    {
      "metadata": {
        "id": "eIkf3J4dP-UP",
        "colab_type": "code",
        "colab": {
          "base_uri": "https://localhost:8080/",
          "height": 1054
        },
        "outputId": "84626dc5-70ba-44e4-e632-7a1c01602abc"
      },
      "cell_type": "code",
      "source": [
        "hist_m6 = model6.fit(X_train, Y_train,epochs=epochs,batch_size=batch_size, validation_data=(X_val, Y_val), shuffle=True)"
      ],
      "execution_count": 10,
      "outputs": [
        {
          "output_type": "stream",
          "text": [
            "Train on 1200 samples, validate on 400 samples\n",
            "Epoch 1/30\n",
            "1200/1200 [==============================] - 212s 177ms/step - loss: 978.2767 - val_loss: 221.9296\n",
            "Epoch 2/30\n",
            "1200/1200 [==============================] - 196s 163ms/step - loss: 892.4036 - val_loss: 954.1629\n",
            "Epoch 3/30\n",
            "1200/1200 [==============================] - 196s 163ms/step - loss: 768.9803 - val_loss: 522.6831\n",
            "Epoch 4/30\n",
            "1200/1200 [==============================] - 196s 163ms/step - loss: 626.2190 - val_loss: 637.4736\n",
            "Epoch 5/30\n",
            "1200/1200 [==============================] - 196s 163ms/step - loss: 468.0339 - val_loss: 292.0122\n",
            "Epoch 6/30\n",
            "1200/1200 [==============================] - 196s 163ms/step - loss: 309.8281 - val_loss: 518.6595\n",
            "Epoch 7/30\n",
            "1200/1200 [==============================] - 196s 163ms/step - loss: 170.1566 - val_loss: 49.5647\n",
            "Epoch 8/30\n",
            "1200/1200 [==============================] - 196s 163ms/step - loss: 69.1705 - val_loss: 359.9816\n",
            "Epoch 9/30\n",
            "1200/1200 [==============================] - 196s 163ms/step - loss: 27.6025 - val_loss: 32.4358\n",
            "Epoch 10/30\n",
            "1200/1200 [==============================] - 196s 163ms/step - loss: 21.0944 - val_loss: 35.3423\n",
            "Epoch 11/30\n",
            "1200/1200 [==============================] - 196s 163ms/step - loss: 19.0163 - val_loss: 25.9428\n",
            "Epoch 12/30\n",
            "1200/1200 [==============================] - 195s 163ms/step - loss: 17.4440 - val_loss: 46.6366\n",
            "Epoch 13/30\n",
            "1200/1200 [==============================] - 196s 163ms/step - loss: 15.8111 - val_loss: 34.3483\n",
            "Epoch 14/30\n",
            "1200/1200 [==============================] - 196s 163ms/step - loss: 14.5355 - val_loss: 26.1251\n",
            "Epoch 15/30\n",
            "1200/1200 [==============================] - 196s 163ms/step - loss: 13.9111 - val_loss: 11.3830\n",
            "Epoch 16/30\n",
            "1200/1200 [==============================] - 195s 163ms/step - loss: 12.5495 - val_loss: 51.5230\n",
            "Epoch 17/30\n",
            "1200/1200 [==============================] - 195s 163ms/step - loss: 13.0024 - val_loss: 98.3829\n",
            "Epoch 18/30\n",
            "1200/1200 [==============================] - 195s 163ms/step - loss: 12.3195 - val_loss: 11.3341\n",
            "Epoch 19/30\n",
            "1200/1200 [==============================] - 195s 163ms/step - loss: 10.4251 - val_loss: 339.9466\n",
            "Epoch 20/30\n",
            "1200/1200 [==============================] - 195s 163ms/step - loss: 10.7725 - val_loss: 71.4369\n",
            "Epoch 21/30\n",
            "1200/1200 [==============================] - 196s 163ms/step - loss: 11.6955 - val_loss: 10.4455\n",
            "Epoch 22/30\n",
            "1200/1200 [==============================] - 196s 164ms/step - loss: 10.4631 - val_loss: 9.7840\n",
            "Epoch 23/30\n",
            "1200/1200 [==============================] - 197s 164ms/step - loss: 9.9862 - val_loss: 22.5961\n",
            "Epoch 24/30\n",
            "1200/1200 [==============================] - 197s 164ms/step - loss: 9.5164 - val_loss: 11.7955\n",
            "Epoch 25/30\n",
            "1200/1200 [==============================] - 196s 163ms/step - loss: 9.5664 - val_loss: 9.6271\n",
            "Epoch 26/30\n",
            "1200/1200 [==============================] - 197s 164ms/step - loss: 8.3935 - val_loss: 86.4547\n",
            "Epoch 27/30\n",
            "1200/1200 [==============================] - 196s 164ms/step - loss: 8.4386 - val_loss: 41.4169\n",
            "Epoch 28/30\n",
            "1200/1200 [==============================] - 196s 163ms/step - loss: 8.7448 - val_loss: 15.2775\n",
            "Epoch 29/30\n",
            "1200/1200 [==============================] - 196s 163ms/step - loss: 8.5078 - val_loss: 7.8337\n",
            "Epoch 30/30\n",
            "1200/1200 [==============================] - 196s 163ms/step - loss: 6.8464 - val_loss: 35.0777\n"
          ],
          "name": "stdout"
        }
      ]
    },
    {
      "metadata": {
        "id": "1M4exKS-l3KD",
        "colab_type": "code",
        "colab": {
          "base_uri": "https://localhost:8080/",
          "height": 294
        },
        "outputId": "ca44f8f7-a646-4371-ffc4-6f39652bc4e8"
      },
      "cell_type": "code",
      "source": [
        "plot_train(hist_m6)\n"
      ],
      "execution_count": 14,
      "outputs": [
        {
          "output_type": "display_data",
          "data": {
            "image/png": "[encoded data removed]",
            "text/plain": [
              "<matplotlib.figure.Figure at 0x7f7f96517278>"
            ]
          },
          "metadata": {
            "tags": []
          }
        }
      ]
    },
    {
      "metadata": {
        "id": "pjVqK3oymK83",
        "colab_type": "code",
        "colab": {}
      },
      "cell_type": "code",
      "source": [
        "y_pred_m6 = model6.predict(test) \n",
        "\n",
        "prediction_test_6 = np.concatenate(np.round(y_pred_m6))\n",
        "create_sub(prediction_test_6, \"sub4\")"
      ],
      "execution_count": 0,
      "outputs": []
    },
    {
      "metadata": {
        "id": "15HbjK4Pr_pO",
        "colab_type": "code",
        "colab": {}
      },
      "cell_type": "code",
      "source": [
        "model6.save(\"drive/Redes neuronales/Tarea 3/m6.h5\")"
      ],
      "execution_count": 0,
      "outputs": []
    },
    {
      "metadata": {
        "id": "5LT_c3Ftt2Ke",
        "colab_type": "code",
        "colab": {
          "base_uri": "https://localhost:8080/",
          "height": 612
        },
        "outputId": "29ab387c-fb4b-4fbe-a6c7-8de80eeb42a8"
      },
      "cell_type": "code",
      "source": [
        "opt = rmsprop()\n",
        "batch_size = 16\n",
        "epochs = 20\n",
        "\n",
        "model7 = Sequential()\n",
        "model7.add(Conv2D(64, (5, 5), padding='same', input_shape=X_train.shape[1:],activation='relu'))\n",
        "model7.add(Conv2D(64, (3, 3), padding='same',activation='relu'))\n",
        "model7.add(BatchNormalization())\n",
        "model7.add(MaxPooling2D(pool_size=(2, 2)))\n",
        "model7.add(Dropout(0.25))\n",
        "\n",
        "model7.add(Conv2D(32, (3, 3), padding='same',activation='relu'))\n",
        "model7.add(Conv2D(32, (3, 3), padding='same',activation='relu'))\n",
        "model7.add(BatchNormalization())\n",
        "model7.add(MaxPooling2D(pool_size=(2, 2)))\n",
        "model7.add(Dropout(0.25))\n",
        "\n",
        "model7.add(Flatten())\n",
        "model7.add(Dense(32,activation='relu'))\n",
        "model7.add(BatchNormalization())\n",
        "model7.add(Dense(1,activation='linear'))\n",
        "\n",
        "model7.compile(optimizer=opt,loss=\"mse\")\n",
        "model7.summary()"
      ],
      "execution_count": 9,
      "outputs": [
        {
          "output_type": "stream",
          "text": [
            "_________________________________________________________________\n",
            "Layer (type)                 Output Shape              Param #   \n",
            "=================================================================\n",
            "conv2d_1 (Conv2D)            (None, 480, 640, 64)      4864      \n",
            "_________________________________________________________________\n",
            "conv2d_2 (Conv2D)            (None, 480, 640, 64)      36928     \n",
            "_________________________________________________________________\n",
            "batch_normalization_1 (Batch (None, 480, 640, 64)      256       \n",
            "_________________________________________________________________\n",
            "max_pooling2d_1 (MaxPooling2 (None, 240, 320, 64)      0         \n",
            "_________________________________________________________________\n",
            "dropout_1 (Dropout)          (None, 240, 320, 64)      0         \n",
            "_________________________________________________________________\n",
            "conv2d_3 (Conv2D)            (None, 240, 320, 32)      18464     \n",
            "_________________________________________________________________\n",
            "conv2d_4 (Conv2D)            (None, 240, 320, 32)      9248      \n",
            "_________________________________________________________________\n",
            "batch_normalization_2 (Batch (None, 240, 320, 32)      128       \n",
            "_________________________________________________________________\n",
            "max_pooling2d_2 (MaxPooling2 (None, 120, 160, 32)      0         \n",
            "_________________________________________________________________\n",
            "dropout_2 (Dropout)          (None, 120, 160, 32)      0         \n",
            "_________________________________________________________________\n",
            "flatten_1 (Flatten)          (None, 614400)            0         \n",
            "_________________________________________________________________\n",
            "dense_1 (Dense)              (None, 32)                19660832  \n",
            "_________________________________________________________________\n",
            "batch_normalization_3 (Batch (None, 32)                128       \n",
            "_________________________________________________________________\n",
            "dense_2 (Dense)              (None, 1)                 33        \n",
            "=================================================================\n",
            "Total params: 19,730,881\n",
            "Trainable params: 19,730,625\n",
            "Non-trainable params: 256\n",
            "_________________________________________________________________\n"
          ],
          "name": "stdout"
        }
      ]
    },
    {
      "metadata": {
        "id": "MNR-i_cgxlSE",
        "colab_type": "text"
      },
      "cell_type": "markdown",
      "source": [
        "Seguir entrenando la que funcionó bien *model4*"
      ]
    },
    {
      "metadata": {
        "id": "wPngu_fBudlu",
        "colab_type": "code",
        "colab": {}
      },
      "cell_type": "code",
      "source": [
        "from keras.models import load_model"
      ],
      "execution_count": 0,
      "outputs": []
    },
    {
      "metadata": {
        "id": "jfapO3ixtxqX",
        "colab_type": "code",
        "colab": {}
      },
      "cell_type": "code",
      "source": [
        "\n",
        "model4_1 = load_model(\"drive/Redes neuronales/Tarea 3/m4.h5\")\n",
        "#ssffdgggggg"
      ],
      "execution_count": 0,
      "outputs": []
    },
    {
      "metadata": {
        "id": "lO8jVzbxuoK4",
        "colab_type": "code",
        "colab": {
          "base_uri": "https://localhost:8080/",
          "height": 714
        },
        "outputId": "542a0503-05bd-4c38-a3fc-081a01eb456e"
      },
      "cell_type": "code",
      "source": [
        "hist_m4_1 = model4_1.fit(X_train, Y_train,epochs=epochs,batch_size=batch_size, validation_data=(X_val, Y_val), shuffle=True)"
      ],
      "execution_count": 26,
      "outputs": [
        {
          "output_type": "stream",
          "text": [
            "Train on 1200 samples, validate on 400 samples\n",
            "Epoch 1/20\n",
            "1200/1200 [==============================] - 145s 121ms/step - loss: 3.4223 - val_loss: 7.1406\n",
            "Epoch 2/20\n",
            "1200/1200 [==============================] - 145s 121ms/step - loss: 3.8279 - val_loss: 1.3250\n",
            "Epoch 3/20\n",
            "1200/1200 [==============================] - 145s 121ms/step - loss: 3.8927 - val_loss: 1.2926\n",
            "Epoch 4/20\n",
            "1200/1200 [==============================] - 145s 121ms/step - loss: 3.7846 - val_loss: 4.1130\n",
            "Epoch 5/20\n",
            "1200/1200 [==============================] - 145s 121ms/step - loss: 4.0512 - val_loss: 8.6264\n",
            "Epoch 6/20\n",
            "1200/1200 [==============================] - 145s 121ms/step - loss: 4.0742 - val_loss: 4.6807\n",
            "Epoch 7/20\n",
            "1200/1200 [==============================] - 145s 121ms/step - loss: 3.1414 - val_loss: 3.5462\n",
            "Epoch 8/20\n",
            "1200/1200 [==============================] - 145s 121ms/step - loss: 2.9957 - val_loss: 1.5294\n",
            "Epoch 9/20\n",
            "1200/1200 [==============================] - 145s 121ms/step - loss: 4.2426 - val_loss: 3.0869\n",
            "Epoch 10/20\n",
            "1200/1200 [==============================] - 145s 121ms/step - loss: 3.9284 - val_loss: 5.6572\n",
            "Epoch 11/20\n",
            "1200/1200 [==============================] - 145s 121ms/step - loss: 3.2390 - val_loss: 1.4924\n",
            "Epoch 12/20\n",
            "1200/1200 [==============================] - 145s 121ms/step - loss: 3.5871 - val_loss: 1.4783\n",
            "Epoch 13/20\n",
            "1200/1200 [==============================] - 145s 121ms/step - loss: 3.4765 - val_loss: 3.2129\n",
            "Epoch 14/20\n",
            "1200/1200 [==============================] - 145s 121ms/step - loss: 3.1945 - val_loss: 2.5501\n",
            "Epoch 15/20\n",
            "1200/1200 [==============================] - 145s 121ms/step - loss: 2.6949 - val_loss: 1.4238\n",
            "Epoch 16/20\n",
            "1200/1200 [==============================] - 145s 121ms/step - loss: 3.7251 - val_loss: 1.3784\n",
            "Epoch 17/20\n",
            "1200/1200 [==============================] - 145s 121ms/step - loss: 3.2981 - val_loss: 2.5632\n",
            "Epoch 18/20\n",
            "1200/1200 [==============================] - 145s 121ms/step - loss: 2.6588 - val_loss: 3.9320\n",
            "Epoch 19/20\n",
            "1200/1200 [==============================] - 145s 121ms/step - loss: 2.8100 - val_loss: 4.2877\n",
            "Epoch 20/20\n",
            "1200/1200 [==============================] - 145s 121ms/step - loss: 3.2077 - val_loss: 1.8260\n"
          ],
          "name": "stdout"
        }
      ]
    },
    {
      "metadata": {
        "id": "elTRn2jQwuff",
        "colab_type": "code",
        "colab": {
          "base_uri": "https://localhost:8080/",
          "height": 294
        },
        "outputId": "82ddc026-8502-4be7-ef5c-d3a026b275d5"
      },
      "cell_type": "code",
      "source": [
        "plot_train(hist_m4_1)"
      ],
      "execution_count": 27,
      "outputs": [
        {
          "output_type": "display_data",
          "data": {
            "image/png": "[encoded data removed]",
            "text/plain": [
              "<matplotlib.figure.Figure at 0x7efece432c88>"
            ]
          },
          "metadata": {
            "tags": []
          }
        }
      ]
    },
    {
      "metadata": {
        "id": "0U2hxrs4wuP8",
        "colab_type": "code",
        "colab": {}
      },
      "cell_type": "code",
      "source": [
        "model4_1.save(\"drive/Redes neuronales/Tarea 3/m4_20.h5\")"
      ],
      "execution_count": 0,
      "outputs": []
    },
    {
      "metadata": {
        "id": "U7zKfoA2wZX6",
        "colab_type": "code",
        "colab": {}
      },
      "cell_type": "code",
      "source": [
        "test = np.load('drive/Redes neuronales/Tarea 3/images_test.npy')\n",
        "test = test.astype('float32')\n",
        "test /= 255.0\n"
      ],
      "execution_count": 0,
      "outputs": []
    },
    {
      "metadata": {
        "id": "7HvmjGFOw6-H",
        "colab_type": "code",
        "colab": {}
      },
      "cell_type": "code",
      "source": [
        "y_pred_m4_1 = model4_1.predict(test)\n",
        "prediction_test_4_1 = np.concatenate(np.round(y_pred_m4_1))\n",
        "create_sub(prediction_test_4_1, \"sub2.20\")"
      ],
      "execution_count": 0,
      "outputs": []
    },
    {
      "metadata": {
        "id": "5AmfZ1qMj_Me",
        "colab_type": "text"
      },
      "cell_type": "markdown",
      "source": [
        "Finalmente el modelo *model4_1* con el cual hemos obtenido los mejores resultados, los cuales fueron subidos a Kaggle. Cabe destacar que este modelo es el mismo que *model4* pero con más epoch de entrenamiento."
      ]
    }
  ]
}